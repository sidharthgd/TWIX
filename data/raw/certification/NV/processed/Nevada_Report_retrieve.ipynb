{
 "cells": [
  {
   "cell_type": "markdown",
   "id": "ffe85295-5c61-47f6-bf7c-b0476c72c8f9",
   "metadata": {},
   "source": [
    "Convert File from PDF to CSV. Certifications by Agency in NV, 8/21/19."
   ]
  },
  {
   "cell_type": "code",
   "execution_count": 5,
   "id": "c9c411db-8bdf-4f63-9a2c-65cf503f2582",
   "metadata": {},
   "outputs": [],
   "source": [
    "import pdfplumber\n",
    "import pandas as pd\n",
    "\n",
    "file = 'Nevada_Report.pdf'"
   ]
  },
  {
   "cell_type": "code",
   "execution_count": 6,
   "id": "0bced046-9158-4b8a-a67e-05ea11dce975",
   "metadata": {},
   "outputs": [],
   "source": [
    "lines = []\n",
    "\n",
    "with pdfplumber.open(file) as pdf:\n",
    "    pages = pdf.pages\n",
    "    for page in pdf.pages:\n",
    "        text = page.extract_text(extraction_mode=\"layout\")\n",
    "        for line in text.split('\\n'):\n",
    "            lines.append(line)"
   ]
  },
  {
   "cell_type": "code",
   "execution_count": 7,
   "id": "37cde05c-17ee-41d1-9a27-243a680cd1e9",
   "metadata": {},
   "outputs": [],
   "source": [
    "raw_output_df = pd.DataFrame(lines)"
   ]
  },
  {
   "cell_type": "code",
   "execution_count": 8,
   "id": "79e2662e-1c3d-4c7c-b8d3-88e1a0ae681e",
   "metadata": {},
   "outputs": [
    {
     "data": {
      "text/html": [
       "<div>\n",
       "<style scoped>\n",
       "    .dataframe tbody tr th:only-of-type {\n",
       "        vertical-align: middle;\n",
       "    }\n",
       "\n",
       "    .dataframe tbody tr th {\n",
       "        vertical-align: top;\n",
       "    }\n",
       "\n",
       "    .dataframe thead th {\n",
       "        text-align: right;\n",
       "    }\n",
       "</style>\n",
       "<table border=\"1\" class=\"dataframe\">\n",
       "  <thead>\n",
       "    <tr style=\"text-align: right;\">\n",
       "      <th></th>\n",
       "      <th>0</th>\n",
       "    </tr>\n",
       "  </thead>\n",
       "  <tbody>\n",
       "    <tr>\n",
       "      <th>0</th>\n",
       "      <td>AUG 21,2019 Nevada Commission on POST Page: 1</td>\n",
       "    </tr>\n",
       "    <tr>\n",
       "      <th>1</th>\n",
       "      <td>03:50PM Certification By Agency</td>\n",
       "    </tr>\n",
       "    <tr>\n",
       "      <th>2</th>\n",
       "      <td>Invisible Institute Request</td>\n",
       "    </tr>\n",
       "    <tr>\n",
       "      <th>3</th>\n",
       "      <td>Certificate Level Status Date Status Cert # Ce...</td>\n",
       "    </tr>\n",
       "    <tr>\n",
       "      <th>4</th>\n",
       "      <td>11th District</td>\n",
       "    </tr>\n",
       "    <tr>\n",
       "      <th>...</th>\n",
       "      <td>...</td>\n",
       "    </tr>\n",
       "    <tr>\n",
       "      <th>56432</th>\n",
       "      <td>Invisible Institute Request</td>\n",
       "    </tr>\n",
       "    <tr>\n",
       "      <th>56433</th>\n",
       "      <td>Certificate Level Status Date Status Cert # Ce...</td>\n",
       "    </tr>\n",
       "    <tr>\n",
       "      <th>56434</th>\n",
       "      <td>Employees this Report: 21,515</td>\n",
       "    </tr>\n",
       "    <tr>\n",
       "      <th>56435</th>\n",
       "      <td>NOTE: Some employees may be associated with mo...</td>\n",
       "    </tr>\n",
       "    <tr>\n",
       "      <th>56436</th>\n",
       "      <td>X</td>\n",
       "    </tr>\n",
       "  </tbody>\n",
       "</table>\n",
       "<p>56437 rows × 1 columns</p>\n",
       "</div>"
      ],
      "text/plain": [
       "                                                       0\n",
       "0          AUG 21,2019 Nevada Commission on POST Page: 1\n",
       "1                        03:50PM Certification By Agency\n",
       "2                            Invisible Institute Request\n",
       "3      Certificate Level Status Date Status Cert # Ce...\n",
       "4                                          11th District\n",
       "...                                                  ...\n",
       "56432                        Invisible Institute Request\n",
       "56433  Certificate Level Status Date Status Cert # Ce...\n",
       "56434                      Employees this Report: 21,515\n",
       "56435  NOTE: Some employees may be associated with mo...\n",
       "56436                                                  X\n",
       "\n",
       "[56437 rows x 1 columns]"
      ]
     },
     "execution_count": 8,
     "metadata": {},
     "output_type": "execute_result"
    }
   ],
   "source": [
    "raw_output_df"
   ]
  },
  {
   "cell_type": "code",
   "execution_count": 11,
   "id": "0195e037-39e3-4da0-bc23-b27ad185551e",
   "metadata": {},
   "outputs": [
    {
     "data": {
      "text/plain": [
       "'Basic: Category I 7-20-2017 Active 1-17-1993 7-20-2022'"
      ]
     },
     "execution_count": 11,
     "metadata": {},
     "output_type": "execute_result"
    }
   ],
   "source": [
    "raw_output_df.iloc[568][0]"
   ]
  },
  {
   "cell_type": "code",
   "execution_count": 12,
   "id": "a967d09a-bebb-45d7-ba8b-df32be4bd56e",
   "metadata": {},
   "outputs": [
    {
     "name": "stdout",
     "output_type": "stream",
     "text": [
      "done\n"
     ]
    }
   ],
   "source": [
    "raw_output_df.to_csv('Nevada_Report_raw.csv')\n",
    "print('done')"
   ]
  },
  {
   "cell_type": "code",
   "execution_count": null,
   "id": "2409fd4d-1f2e-4a32-9930-dfaeaac20165",
   "metadata": {},
   "outputs": [],
   "source": []
  }
 ],
 "metadata": {
  "kernelspec": {
   "display_name": "Python 3 (ipykernel)",
   "language": "python",
   "name": "python3"
  },
  "language_info": {
   "codemirror_mode": {
    "name": "ipython",
    "version": 3
   },
   "file_extension": ".py",
   "mimetype": "text/x-python",
   "name": "python",
   "nbconvert_exporter": "python",
   "pygments_lexer": "ipython3",
   "version": "3.9.12"
  }
 },
 "nbformat": 4,
 "nbformat_minor": 5
}
