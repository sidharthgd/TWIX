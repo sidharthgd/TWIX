{
 "cells": [
  {
   "cell_type": "code",
   "execution_count": 1,
   "metadata": {},
   "outputs": [
    {
     "data": {
      "text/plain": [
       "<module 'baselines' from '/Users/yiminglin/Documents/Codebase/Pdf_reverse/src/baselines.py'>"
      ]
     },
     "execution_count": 1,
     "metadata": {},
     "output_type": "execute_result"
    }
   ],
   "source": [
    "import eval,key,baselines \n",
    "import importlib\n",
    "\n",
    "importlib.reload(eval)\n",
    "importlib.reload(key)\n",
    "importlib.reload(baselines)"
   ]
  },
  {
   "cell_type": "code",
   "execution_count": 3,
   "metadata": {},
   "outputs": [
    {
     "name": "stdout",
     "output_type": "stream",
     "text": [
      "/Users/yiminglin/Documents/Codebase/Pdf_reverse/data/raw/complaints & use of force/Champaign IL Police Complaints/Investigations_Redacted.pdf\n",
      "/Users/yiminglin/Documents/Codebase/Pdf_reverse/data/raw/complaints & use of force/UIUC PD Use of Force/22-274.releasable.pdf\n",
      "/Users/yiminglin/Documents/Codebase/Pdf_reverse/data/raw/certification/CT/DecertifiedOfficersRev_9622 Emilie Munson.pdf\n",
      "/Users/yiminglin/Documents/Codebase/Pdf_reverse/data/raw/certification/IA/Active_Employment.pdf\n",
      "/Users/yiminglin/Documents/Codebase/Pdf_reverse/data/raw/certification/MT/RptEmpRstrDetail Active.pdf\n",
      "/Users/yiminglin/Documents/Codebase/Pdf_reverse/data/raw/certification/VT/Invisible Institue Report.pdf\n"
     ]
    }
   ],
   "source": [
    "root_path = '/Users/yiminglin/Documents/Codebase/Pdf_reverse'\n",
    "tested_paths = []\n",
    "tested_paths.append(root_path + '/data/raw/complaints & use of force/Champaign IL Police Complaints/Investigations_Redacted.pdf')\n",
    "tested_paths.append(root_path + '/data/raw/complaints & use of force/UIUC PD Use of Force/22-274.releasable.pdf')\n",
    "tested_paths.append(root_path + '/data/raw/certification/CT/DecertifiedOfficersRev_9622 Emilie Munson.pdf')\n",
    "tested_paths.append(root_path + '/data/raw/certification/IA/Active_Employment.pdf')\n",
    "tested_paths.append(root_path + '/data/raw/certification/MT/RptEmpRstrDetail Active.pdf')\n",
    "tested_paths.append(root_path + '/data/raw/certification/VT/Invisible Institue Report.pdf')\n",
    "\n",
    "\n",
    "for tested_id in range(len(tested_paths)):\n",
    "\n",
    "    path = tested_paths[tested_id]\n",
    "    print(path)\n",
    "    result_path = key.get_baseline_result_path(path,'textLLM_gpt4o')\n",
    "    truth_path = key.get_truth_path(path,1)\n",
    "    extracted_path = key.get_extracted_path(path)\n",
    "\n",
    "    phrases = eval.read_file(extracted_path)\n",
    "    baselines.LLM_text(phrases, result_path)\n",
    "    #break\n",
    "\n",
    "    #phrases = format(eval.read_file(extracted_path))\n",
    "    # truths = format(eval.read_file(truth_path))\n",
    "    # results = format(eval.read_file(result_path))\n",
    "\n",
    "    # truths = eval.filter(truths, phrases)\n",
    "    # precision, recall, FP, FN = eval.eval(truths, results)"
   ]
  },
  {
   "cell_type": "code",
   "execution_count": null,
   "metadata": {},
   "outputs": [],
   "source": [
    "root_path = '/Users/yiminglin/Documents/Codebase/Pdf_reverse'\n",
    "tested_paths = []\n",
    "tested_paths.append(root_path + '/data/raw/complaints & use of force/Champaign IL Police Complaints/Investigations_Redacted.pdf')\n",
    "tested_paths.append(root_path + '/data/raw/complaints & use of force/UIUC PD Use of Force/22-274.releasable.pdf')\n",
    "tested_paths.append(root_path + '/data/raw/certification/CT/DecertifiedOfficersRev_9622 Emilie Munson.pdf')\n",
    "tested_paths.append(root_path + '/data/raw/certification/IA/Active_Employment.pdf')\n",
    "tested_paths.append(root_path + '/data/raw/certification/MT/RptEmpRstrDetail Active.pdf')\n",
    "tested_paths.append(root_path + '/data/raw/certification/VT/Invisible Institue Report.pdf')\n",
    "\n",
    "\n",
    "for tested_id in range(len(tested_paths)):\n",
    "\n",
    "    path = tested_paths[tested_id]\n",
    "    print(path)\n",
    "    result_path = key.get_baseline_result_path(path,'textLLM_gpt4o')\n",
    "    truth_path = key.get_truth_path(path,1)\n",
    "    extracted_path = key.get_extracted_path(path)\n",
    "\n",
    "    phrases = format(eval.read_file(extracted_path))\n",
    "    truths = format(eval.read_file(truth_path))\n",
    "    results = format(eval.read_file(result_path))\n",
    "\n",
    "    truths = eval.filter(truths, phrases)\n",
    "    precision, recall, FP, FN = eval.eval(truths, results)"
   ]
  }
 ],
 "metadata": {
  "kernelspec": {
   "display_name": "base",
   "language": "python",
   "name": "python3"
  },
  "language_info": {
   "codemirror_mode": {
    "name": "ipython",
    "version": 3
   },
   "file_extension": ".py",
   "mimetype": "text/x-python",
   "name": "python",
   "nbconvert_exporter": "python",
   "pygments_lexer": "ipython3",
   "version": "3.9.7"
  }
 },
 "nbformat": 4,
 "nbformat_minor": 2
}
