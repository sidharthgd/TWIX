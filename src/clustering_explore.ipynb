{
 "cells": [
  {
   "cell_type": "code",
   "execution_count": 1,
   "metadata": {},
   "outputs": [],
   "source": [
    "import os, json"
   ]
  },
  {
   "cell_type": "code",
   "execution_count": 21,
   "metadata": {},
   "outputs": [],
   "source": [
    "def perfect_match(v1,v2,k):\n",
    "    if(len(v1)!=len(v2)):\n",
    "        return 0\n",
    "    delta = abs(v1[0] - v2[0])\n",
    "    for i in range(len(v1)):\n",
    "        if(abs(v1[i]-v2[i])-delta > k):\n",
    "            #print(delta, v1[i],v2[i])\n",
    "            return 0\n",
    "    return 1\n",
    "\n",
    "def perfect_align_clustering(phrases_vec,k):\n",
    "    mp = {}\n",
    "    remap = {}\n",
    "    id = 0\n",
    "    phrases = []\n",
    "    for phrase, vec in phrases_vec.items():\n",
    "        phrases.append(phrase)\n",
    "\n",
    "    for i in range(len(phrases)):\n",
    "        pi = phrases[i]\n",
    "        vi = phrases_vec[pi]\n",
    "        if(pi not in mp):\n",
    "            mp[pi] = id\n",
    "            remap[id] = [pi]\n",
    "            id += 1\n",
    "        else:\n",
    "            continue\n",
    "        for j in range(i+1, len(phrases)):\n",
    "            pj = phrases[j]\n",
    "            vj = phrases_vec[pj]\n",
    "\n",
    "            #optimization: pj in mp denotes that pj must be at least perfectly match with one phrase before pi, but pi is not in mp\n",
    "            #so pi and pj must be not perfectly aligned, and thus skip comparison \n",
    "            if(pj in mp):\n",
    "                continue\n",
    "\n",
    "            if(perfect_match(vi,vj,k) == 1):\n",
    "                mp[pj] = id-1\n",
    "                remap[id-1].append(pj)\n",
    "    \n",
    "    return mp, remap"
   ]
  },
  {
   "cell_type": "code",
   "execution_count": 15,
   "metadata": {},
   "outputs": [],
   "source": [
    "\n",
    "\n",
    "def read_dict(file):\n",
    "    print(file)\n",
    "    with open(file, 'r') as file:\n",
    "        data = json.load(file)\n",
    "    return data \n",
    "\n",
    "def read_file(file):\n",
    "    data = []\n",
    "    with open(file, 'r') as file:\n",
    "        # Iterate over each line in the file\n",
    "        for line in file:\n",
    "            # Print the line (you can replace this with other processing logic)\n",
    "            data.append(line.strip())\n",
    "    return data\n",
    "\n",
    "def get_extracted_path(path):\n",
    "    path = path.replace('raw','extracted')\n",
    "    path = path.replace('.pdf','.txt')\n",
    "    return path\n",
    "\n",
    "def get_relative_location_path(extracted_path):\n",
    "    path = extracted_path[:-4] + '_relative_location.csv'\n",
    "    return path\n",
    "\n",
    "def get_root_path():\n",
    "    current_path = os.path.abspath(os.path.dirname(__file__))\n",
    "    parent_path = os.path.abspath(os.path.join(current_path, os.pardir))\n",
    "    #print(\"Parent path:\", parent_path)\n",
    "    return parent_path\n",
    "\n",
    "def get_key_path(extracted_path):\n",
    "    path = extracted_path.replace('extracted','truths/key_truth')\n",
    "    return path"
   ]
  },
  {
   "cell_type": "code",
   "execution_count": 22,
   "metadata": {},
   "outputs": [
    {
     "name": "stdout",
     "output_type": "stream",
     "text": [
      "/Users/yiminglin/Documents/Codebase/Pdf_reverse/data/extracted/complaints & use of force/UIUC PD Use of Force/22-274.releasable_relative_location.csv\n",
      "['Report Criteria', 'Incidents Between', '1/1/2021 AND 12/31/2021', '21-00017', '1143', 'Ahart, Rachael F.', 'Apartment', 'Search Warrant', 'Entered on 4/6/2021 9:55:14 AM by jbclark.', 'Harvey, Jamir T.', 'Officers from the Street Crimes Task Force executed a search warrant and subject fled from scene.', 'Officers pursued on foot and Officer Snow located subject in a', 'parking lot.', 'Officer Snow pointed firearm at the suspect and directed him to get on the ground and suspect complied.', 'Suspect was taken into custody without further', '3/14/2022 8:27:19 AM', '21-01236', '1/31/2021', '0156', 'Benoit, Robert W.', '2/2/2021', 'Green & Second Streets', 'Roadway', 'Armed Subject', 'Entered on 4/6/2021 10:04:34 AM by jbclark.', 'Norman, Shannon L', '1114 1/2 Ashford Ct', 'Mahomet', 'Active Aggressive', 'Officers responded to 35 E. Green to assist CPD with a report of an armed subject.', 'Sgt. Schroeder located the suspect vehicle leaving the parking lot and conducted', 'a felony stop.', 'Occupants of the vehilce were ordered out at gun point and were secured. Two handguns were located inside the vehicle.', '21-01342', '2/5/2021', '1436', 'Hetrick, Timothy W.', '2/6/2021', 'Busey Woods', 'Home Invasion', 'Entered on 4/6/2021 10:11:28 AM by jbclark.', 'Beckett, Anqwaun Jauwaun', '2019 Cynthia Apt. M204', 'Minor', 'Suspect had a facial injury as a result of running through the woods.', 'Crane, Ben', 'Milinkovic, Peter C.', 'Perrine, Nicholas R.', 'UIPD officers responded to assist UPD attempting to locate a suspected armed subject who was involved in a home invasion, fled scene and was involved in a motor', 'vehicle accident. Suspect then fled into Busey Woods.', 'Officer Crane and Milinkovic started walking through the woods and located the suspect in a pile of brush.', 'Officers pointed firearms at suspect, who got up and fled again on foot.', 'Officer Perrine and Germany located suspect and pointed their firearms at suspect and', 'ordered him to get on the ground.', 'Suspect complied and was taken into custody without further incident.', '21-02229', '1725', 'Tison, Laura J.', '706 S. Fifth', 'Bar', 'Fight', 'Refusing Lawful Order', 'Entered on 4/6/2021 10:30:09 AM by jbclark.', 'Hands', 'Hartman, Kennedy M', 'Taser - Warning Arc', \"Officers responded to Joe's Brewery to assist CPD with a fight in progress.\", 'UIPD officers were first to arrive on scene and found a subject actively fighting with', 'security officers.', 'Officer Osterholt drew his Taser and displayed a warning arc and ordered subject to the ground, but suspect was non-compliant.', 'Officer Osterholt', 'and Officer Hartman they grabbed suspects arms and attempted to place them behind his back, however suspect continued to resist.', 'Suspect finally comlied and', 'placed his arms behind his back where he was placed in handcuffs.', \"Joe's Brewery staff did not want to press charges and suspect was released.\", '21-02257', '3/20/2021', '1818', '3/21/2021', 'Chalmers and Locust', 'Alley', 'Felony Stop', 'Entered on 4/13/2021 1:07:19 PM by jbclark.', '2', 'Not Indicated', 'Tran, Alex', 'Sgt. Schroeder stopped a vehicle for a traffic violation, when she realized the vehicle fit the description of a vehicle involved in an earlier shooting in Champaign.', 'The', 'suspects in that shooting were armed with an AR-15.', 'Officers conducted a high-risk traffic stop and deployed handguns and long guns to direct the occupants out of', 'the vehilce.', 'Occupants were cooperative and were released from scene after it was determined they were not involved in the earlier shooting incident.', '21-02471', '2046', 'Bell, Rickey W.', '1715 Melrose Village Circle', 'Shooting', 'Entered on 4/13/2021 1:23:31 PM by jbclark.', 'Leake, Daniel J.', 'Officers resonded to assist UPD with a shooting that had just occurred and the suspect had fled the scene on foot. UIPD K9 tracked one possible suspect into a', 'wooded area.', 'Officer Leake observed a subject walking through the woods, drew his duty weapon and pointed it at the subject while giving him verbal commands,', 'which he complied.', 'Juvenile suspect was transferred to custody of UPD officers.', '21-02792', '4/10/2021', '1726', 'McCullough, Joseph G.', '4/16/2021', 'Silver/Vawter', 'Parking Lot', 'Arrest Warrant', 'Entered on 6/30/2021 7:33:39 AM by jbclark.', 'Street Crimes Task Force officers were involved in an arrest situation of a subject who was reported to be armed with a weapon.', 'Officers located subject near 2012', 'Vawter Street in Urbana.', 'Officer Snow pointed his firearm at subject and ordered him to the ground, in which the subject complied.', 'Subject taken into custody without']\n",
      "['Officer Detail Reports #A-12', 'University of Illinois Police Department', 'Case Number', 'Date', 'Time', 'Assist', 'Agency', 'Information Taken From', 'Crime/ Incident', 'Status', 'Completed', 'Incident Reviewed By', 'Date Reviewed', 'Drugs/Alcohol', 'Location', 'K-9', 'Crisis Intervention Related', 'Type Premises', 'District', 'Recorded On Camera', 'Type Situation', 'Reason Force Used', 'Officer Injured', 'Danger Factors', 'Final Disposition', 'Verbal De-Escalation Attempted', '1']\n",
      "['Page 1 of 27', 'Page 2 of 27', '3/19/2021', 'Physical Resistance', 'EH Control - Physical Restraint', 'Osterholt, Drew L.', 'Jones, Kent R.', 'Page 6 of 27', '3/29/2021', 'Page 7 of 27']\n",
      "['SCTF', 'Snow, Ryan S.', 'incident.', 'Firearm', 'UPD', 'Wooded Area', 'Arrested/Lodged', 'Unknown', 'Germany, Karl', 'Page 4 of 27', 'Released / No Action', 'Page 5 of 27', 'Shooting Suspect']\n",
      "['Fled Scene', 'Fleeing', 'Page 3 of 27']\n",
      "['Subject #', 'DOB', 'Gender', 'Male', 'Race', 'HGT', '/', 'WGT', 'Under The Influence', 'Address', 'Level Of Resistance', 'Subject Armed With', 'Force Used', 'Force Location', 'Arrested', 'Arrested For', 'Arrest ID', 'Injured', 'Medical Aid']\n",
      "['Fleeing Suspect', 'Cooperative']\n",
      "['Officer', 'Action Taken', 'Action Taken Useful', 'CIT', 'Disciplinary Action', 'Included On Alert']\n",
      "['L.E.A. Data Technologies', 'ADMINISTRATIVE Database']\n",
      "['Vehicle/BWC', 'Schroeder, Michelle L.']\n"
     ]
    }
   ],
   "source": [
    "root_path = '/Users/yiminglin/Documents/Codebase/Pdf_reverse'\n",
    "tested_paths = []\n",
    "tested_paths.append(root_path + '/data/raw/complaints & use of force/Champaign IL Police Complaints/Investigations_Redacted.pdf')\n",
    "tested_paths.append(root_path + '/data/raw/complaints & use of force/UIUC PD Use of Force/22-274.releasable.pdf')\n",
    "tested_paths.append(root_path + '/data/raw/certification/CT/DecertifiedOfficersRev_9622 Emilie Munson.pdf')\n",
    "tested_paths.append(root_path + '/data/raw/certification/IA/Active_Employment.pdf')\n",
    "tested_paths.append(root_path + '/data/raw/certification/MT/RptEmpRstrDetail Active.pdf')\n",
    "tested_paths.append(root_path + '/data/raw/certification/VT/Invisible Institue Report.pdf')\n",
    "\n",
    "tested_id = 1 #starting from 0\n",
    "\n",
    "path = tested_paths[tested_id]\n",
    "extracted_path = get_extracted_path(path)\n",
    "out_path = get_relative_location_path(extracted_path)\n",
    "phrases = read_dict(out_path)\n",
    "mp, remap = perfect_align_clustering(phrases,1)\n",
    "\n",
    "for k,v in remap.items():\n",
    "    if(len(v) > 1):\n",
    "        print(v)"
   ]
  },
  {
   "cell_type": "code",
   "execution_count": 24,
   "metadata": {},
   "outputs": [
    {
     "name": "stdout",
     "output_type": "stream",
     "text": [
      "[90, 204, 318, 334, 350, 366, 478, 494, 510, 655, 671, 687, 703, 814, 924]\n",
      "[6, 120, 232, 397, 543, 733, 843]\n"
     ]
    }
   ],
   "source": [
    "print(phrases['Officer'])\n",
    "print(phrases['Case Number'])"
   ]
  },
  {
   "cell_type": "code",
   "execution_count": 20,
   "metadata": {},
   "outputs": [
    {
     "name": "stdout",
     "output_type": "stream",
     "text": [
      "12 543 554\n"
     ]
    },
    {
     "data": {
      "text/plain": [
       "0"
      ]
     },
     "execution_count": 20,
     "metadata": {},
     "output_type": "execute_result"
    }
   ],
   "source": [
    "s1 = [6, 120, 232, 397, 543, 733, 843]\n",
    "s2 = [18, 132, 244, 409, 554, 745, 855]\n",
    "\n",
    "perfect_match(s1,s2)"
   ]
  },
  {
   "cell_type": "markdown",
   "metadata": {},
   "source": [
    "## Observation \n",
    "- Perfect aligned is too strict. Relax it to be the delta distance. "
   ]
  }
 ],
 "metadata": {
  "kernelspec": {
   "display_name": "base",
   "language": "python",
   "name": "python3"
  },
  "language_info": {
   "codemirror_mode": {
    "name": "ipython",
    "version": 3
   },
   "file_extension": ".py",
   "mimetype": "text/x-python",
   "name": "python",
   "nbconvert_exporter": "python",
   "pygments_lexer": "ipython3",
   "version": "3.9.7"
  }
 },
 "nbformat": 4,
 "nbformat_minor": 2
}
