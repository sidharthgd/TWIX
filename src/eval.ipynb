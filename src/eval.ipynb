{
 "cells": [
  {
   "cell_type": "code",
   "execution_count": 26,
   "metadata": {},
   "outputs": [],
   "source": [
    "import key \n",
    "import importlib\n",
    "import key \n",
    "\n",
    "importlib.reload(key)\n",
    "\n",
    "def read_file(file):\n",
    "    data = []\n",
    "    with open(file, 'r') as file:\n",
    "        # Iterate over each line in the file\n",
    "        for line in file:\n",
    "            # Print the line (you can replace this with other processing logic)\n",
    "            data.append(line.strip())\n",
    "    return data\n",
    "\n",
    "def format(lst):\n",
    "    l = []\n",
    "    for v in lst:\n",
    "        l.append(v.lower().strip())\n",
    "    return l\n",
    "\n",
    "def filter(truths, phrases):\n",
    "    l = []\n",
    "    for v in truths:\n",
    "        if(v not in phrases):\n",
    "            print('True key not in the extracted text: '+v)\n",
    "        else:\n",
    "            l.append(v)\n",
    "\n",
    "    return l\n",
    "\n",
    "def eval(truths, results):\n",
    "    precision = 0\n",
    "    recall = 0\n",
    "    FP = []\n",
    "    FN = []\n",
    "    for v in results:\n",
    "        if(v not in truths):\n",
    "            FP.append(v)\n",
    "        else:\n",
    "            precision += 1\n",
    "            recall += 1\n",
    "    for v in truths:\n",
    "        if(v not in results):\n",
    "            FN.append(v)\n",
    "    precision = precision / len(results)\n",
    "    recall = recall / len(truths)\n",
    "\n",
    "    return precision, recall, FP, FN\n",
    "        "
   ]
  },
  {
   "cell_type": "code",
   "execution_count": 27,
   "metadata": {},
   "outputs": [],
   "source": [
    "root_path = '/Users/yiminglin/Documents/Codebase/Pdf_reverse'\n",
    "tested_paths = []\n",
    "tested_paths.append(root_path + '/data/raw/complaints & use of force/Champaign IL Police Complaints/Investigations_Redacted.pdf')\n",
    "tested_paths.append(root_path + '/data/raw/complaints & use of force/UIUC PD Use of Force/22-274.releasable.pdf')\n",
    "tested_paths.append(root_path + '/data/raw/certification/CT/DecertifiedOfficersRev_9622 Emilie Munson.pdf')\n",
    "tested_paths.append(root_path + '/data/raw/certification/IA/Active_Employment.pdf')\n",
    "tested_paths.append(root_path + '/data/raw/certification/MT/RptEmpRstrDetail Active.pdf')\n",
    "tested_paths.append(root_path + '/data/raw/certification/VT/Invisible Institue Report.pdf')\n",
    "\n",
    "tested_id = 1 #starting from 0\n",
    "\n",
    "path = tested_paths[tested_id]\n",
    "result_path = key.get_result_path(path)\n",
    "truth_path = key.get_truth_path(path)\n",
    "extracted_path = key.get_extracted_path(path)\n",
    "\n",
    "\n",
    "truths = format(read_file(truth_path))\n",
    "results = format(read_file(result_path))\n",
    "phrases = format(read_file(extracted_path))\n",
    "\n",
    "truths = filter(truths, phrases)\n",
    "precision, recall, FP, FN = eval(truths, results)"
   ]
  },
  {
   "cell_type": "code",
   "execution_count": 28,
   "metadata": {},
   "outputs": [
    {
     "name": "stdout",
     "output_type": "stream",
     "text": [
      "0.6081081081081081 0.9\n"
     ]
    }
   ],
   "source": [
    "print(precision, recall)"
   ]
  },
  {
   "cell_type": "code",
   "execution_count": 30,
   "metadata": {},
   "outputs": [
    {
     "name": "stdout",
     "output_type": "stream",
     "text": [
      "male\n",
      "/\n",
      "officer detail reports #a-12\n",
      "university of illinois police department\n",
      "crime/ incident\n",
      "completed\n",
      "1\n",
      "sctf\n",
      "snow, ryan s.\n",
      "incident.\n",
      "firearm\n",
      "upd\n",
      "wooded area\n",
      "arrested/lodged\n",
      "unknown\n",
      "germany, karl\n",
      "page 4 of 27\n",
      "released / no action\n",
      "page 5 of 27\n",
      "shooting suspect\n",
      "fled scene\n",
      "fleeing\n",
      "page 3 of 27\n",
      "fleeing suspect\n",
      "cooperative\n",
      "l.e.a. data technologies\n",
      "administrative database\n",
      "vehicle/bwc\n",
      "schroeder, michelle l.\n"
     ]
    }
   ],
   "source": [
    "for v in FP:\n",
    "    print(v)"
   ]
  },
  {
   "cell_type": "code",
   "execution_count": 31,
   "metadata": {},
   "outputs": [
    {
     "name": "stdout",
     "output_type": "stream",
     "text": [
      "city\n",
      "camera\n",
      "notes\n",
      "type injuries\n",
      "narrative\n"
     ]
    }
   ],
   "source": [
    "for v in FN:\n",
    "    print(v)"
   ]
  }
 ],
 "metadata": {
  "kernelspec": {
   "display_name": "base",
   "language": "python",
   "name": "python3"
  },
  "language_info": {
   "codemirror_mode": {
    "name": "ipython",
    "version": 3
   },
   "file_extension": ".py",
   "mimetype": "text/x-python",
   "name": "python",
   "nbconvert_exporter": "python",
   "pygments_lexer": "ipython3",
   "version": "3.9.7"
  }
 },
 "nbformat": 4,
 "nbformat_minor": 2
}
