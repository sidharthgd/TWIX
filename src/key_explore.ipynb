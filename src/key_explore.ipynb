{
 "cells": [
  {
   "cell_type": "code",
   "execution_count": 4,
   "metadata": {},
   "outputs": [],
   "source": [
    "import json\n",
    "import os "
   ]
  },
  {
   "cell_type": "code",
   "execution_count": 16,
   "metadata": {},
   "outputs": [],
   "source": [
    "def read_dict(file):\n",
    "    print(file)\n",
    "    with open(file, 'r') as file:\n",
    "        data = json.load(file)\n",
    "    return data \n",
    "\n",
    "def read_file(file):\n",
    "    data = []\n",
    "    with open(file, 'r') as file:\n",
    "        # Iterate over each line in the file\n",
    "        for line in file:\n",
    "            # Print the line (you can replace this with other processing logic)\n",
    "            data.append(line.strip())\n",
    "    return data\n",
    "\n",
    "def get_extracted_path(path):\n",
    "    path = path.replace('raw','extracted')\n",
    "    path = path.replace('.pdf','.txt')\n",
    "    return path\n",
    "\n",
    "def get_relative_location_path(extracted_path):\n",
    "    path = extracted_path[:-4] + '_relative_location.csv'\n",
    "    return path\n",
    "\n",
    "def get_root_path():\n",
    "    current_path = os.path.abspath(os.path.dirname(__file__))\n",
    "    parent_path = os.path.abspath(os.path.join(current_path, os.pardir))\n",
    "    #print(\"Parent path:\", parent_path)\n",
    "    return parent_path"
   ]
  },
  {
   "cell_type": "code",
   "execution_count": 15,
   "metadata": {},
   "outputs": [
    {
     "name": "stdout",
     "output_type": "stream",
     "text": [
      "/Users/yiminglin/Documents/Codebase/Pdf_reverse/data/extracted/complaints & use of force/UIUC PD Use of Force/22-274.releasable_relative_location.csv\n",
      "Case Number [6, 120, 232, 397, 543, 733, 843]\n",
      "Date [8, 122, 234, 399, 545, 735, 845]\n"
     ]
    }
   ],
   "source": [
    "#check relative locations \n",
    "\n",
    "root_path = '/Users/yiminglin/Documents/Codebase/Pdf_reverse'\n",
    "tested_paths = []\n",
    "tested_paths.append(root_path + '/data/raw/complaints & use of force/Champaign IL Police Complaints/Investigations_Redacted.pdf')\n",
    "tested_paths.append(root_path + '/data/raw/complaints & use of force/UIUC PD Use of Force/22-274.releasable.pdf')\n",
    "tested_paths.append(root_path + '/data/raw/certification/CT/DecertifiedOfficersRev_9622 Emilie Munson.pdf')\n",
    "tested_paths.append(root_path + '/data/raw/certification/IA/Active_Employment.pdf')\n",
    "tested_paths.append(root_path + '/data/raw/certification/MT/RptEmpRstrDetail Active.pdf')\n",
    "tested_paths.append(root_path + '/data/raw/certification/VT/Invisible Institue Report.pdf')\n",
    "\n",
    "tested_id = 1 #starting from 0\n",
    "\n",
    "path = tested_paths[tested_id]\n",
    "extracted_path = get_extracted_path(path)\n",
    "out_path = get_relative_location_path(extracted_path)\n",
    "phrases = read_dict(out_path)\n",
    "\n",
    "words = ['Case Number','Date']\n",
    "\n",
    "for word in words:\n",
    "    print(word,phrases[word])\n",
    "\n",
    "\n"
   ]
  },
  {
   "cell_type": "code",
   "execution_count": 18,
   "metadata": {},
   "outputs": [
    {
     "name": "stdout",
     "output_type": "stream",
     "text": [
      "Case Number [6, 120, 232, 397, 543, 733, 843]\n",
      "Date [8, 122, 234, 399, 545, 735, 845]\n",
      "Time [10, 124, 236, 401, 547, 737, 847]\n",
      "Assist [12, 126, 238, 403, 549, 739, 849]\n",
      "Agency [14, 128, 240, 405, 551, 741, 851]\n",
      "Information Taken From [16, 130, 242, 407, 552, 743, 853]\n",
      "Status [18, 132, 244, 409, 554, 745, 855]\n",
      "Incident Reviewed By [20, 134, 246, 411, 556, 747, 857]\n",
      "Date Reviewed [22, 136, 248, 413, 558, 749, 859]\n",
      "Drugs/Alcohol [24, 138, 250, 415, 560, 751, 861]\n",
      "Location [26, 140, 252, 417, 562, 753, 863]\n",
      "City [28, 69, 142, 183, 254, 295, 419, 458, 564, 603, 635, 755, 794, 865, 904]\n",
      "K-9 [30, 144, 256, 421, 566, 757, 867]\n",
      "Crisis Intervention Related [32, 146, 258, 423, 568, 759, 869]\n",
      "Type Premises [34, 148, 260, 425, 570, 761, 871]\n",
      "District [36, 150, 262, 427, 572, 763, 873]\n",
      "Recorded On Camera [37, 151, 263, 428, 573, 764, 874]\n",
      "Camera [39, 96, 153, 210, 265, 324, 340, 356, 372, 430, 484, 500, 516, 575, 661, 677, 693, 709, 766, 820, 876, 930]\n",
      "Type Situation [41, 155, 267, 432, 577, 768, 878]\n",
      "Reason Force Used [43, 157, 269, 434, 579, 770, 880]\n",
      "Officer Injured [45, 159, 271, 436, 581, 772, 882]\n",
      "Danger Factors [47, 161, 273, 438, 583, 774, 884]\n",
      "Final Disposition [49, 163, 275, 440, 585, 776, 886]\n",
      "Verbal De-Escalation Attempted [51, 165, 277, 442, 587, 778, 888]\n",
      "Notes [53, 167, 279, 316, 444, 589, 780, 890]\n",
      "Subject # [55, 169, 281, 446, 591, 623, 782, 892]\n",
      "DOB [58, 172, 284, 448, 593, 625, 784, 894]\n",
      "Gender [59, 173, 285, 449, 594, 626, 785, 895]\n",
      "Race [61, 175, 287, 451, 596, 628, 787, 897]\n",
      "HGT [62, 176, 288, 452, 597, 629, 788, 898]\n",
      "WGT [64, 178, 290, 454, 599, 631, 790, 900]\n",
      "Under The Influence [65, 179, 291, 455, 600, 632, 791, 901]\n",
      "Address [67, 181, 293, 457, 602, 634, 793, 903]\n",
      "Level Of Resistance [71, 185, 297, 459, 604, 636, 795, 905]\n",
      "Subject Armed With [73, 187, 299, 461, 606, 638, 797, 907]\n",
      "Force Used [75, 189, 301, 463, 608, 640, 799, 909]\n",
      "Force Location [77, 191, 303, 465, 610, 642, 801, 911]\n",
      "Arrested [79, 193, 305, 467, 612, 644, 803, 913]\n",
      "Arrested For [81, 195, 307, 469, 614, 646, 805, 915]\n",
      "Arrest ID [83, 197, 309, 471, 616, 648, 807, 917]\n",
      "Injured [85, 199, 311, 473, 618, 650, 809, 919]\n",
      "Type Injuries [87, 100, 201, 214, 313, 328, 344, 360, 376, 475, 488, 504, 520, 620, 652, 665, 681, 697, 713, 811, 824, 921, 934]\n",
      "Medical Aid [88, 202, 315, 476, 621, 653, 812, 922]\n",
      "Officer [90, 204, 318, 334, 350, 366, 478, 494, 510, 655, 671, 687, 703, 814, 924]\n",
      "Action Taken [92, 206, 320, 336, 352, 368, 480, 496, 512, 657, 673, 689, 705, 816, 926]\n",
      "Action Taken Useful [94, 208, 322, 338, 354, 370, 482, 498, 514, 659, 675, 691, 707, 818, 928]\n",
      "CIT [98, 212, 326, 342, 358, 374, 486, 502, 518, 663, 679, 695, 711, 822, 932]\n",
      "Disciplinary Action [102, 216, 330, 346, 362, 378, 490, 506, 522, 667, 683, 699, 715, 826, 936]\n",
      "Included On Alert [104, 218, 332, 348, 364, 380, 492, 508, 524, 669, 685, 701, 717, 828, 938]\n",
      "Narrative [106, 220, 382, 526, 719, 830, 940]\n"
     ]
    }
   ],
   "source": [
    "#load ground truth keys \n",
    "\n",
    "true_keys = read_file('/Users/yiminglin/Documents/Codebase/Pdf_reverse/data/truths/key_truth/complaints & use of force/UIUC PD Use of Force/22-274.releasable.txt')\n",
    "\n",
    "for key in true_keys:\n",
    "    if(key in phrases):\n",
    "        print(key, phrases[key])"
   ]
  },
  {
   "cell_type": "markdown",
   "metadata": {},
   "source": [
    "## Observation\n",
    "\n",
    "- For most true keys, they are perfectly aligned (same frequencies, and same delta)\n",
    "- In one record, different keys can share the same name \n",
    "  -  Keys with the same entity type (e.g., included on alert, type injuries)\n",
    "  -  Keys with the different entity types (e.g., city, camera) "
   ]
  }
 ],
 "metadata": {
  "kernelspec": {
   "display_name": "base",
   "language": "python",
   "name": "python3"
  },
  "language_info": {
   "codemirror_mode": {
    "name": "ipython",
    "version": 3
   },
   "file_extension": ".py",
   "mimetype": "text/x-python",
   "name": "python",
   "nbconvert_exporter": "python",
   "pygments_lexer": "ipython3",
   "version": "3.9.7"
  }
 },
 "nbformat": 4,
 "nbformat_minor": 2
}
