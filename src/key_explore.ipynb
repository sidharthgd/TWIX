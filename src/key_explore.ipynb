{
 "cells": [
  {
   "cell_type": "code",
   "execution_count": 4,
   "metadata": {},
   "outputs": [],
   "source": [
    "import json\n",
    "import os "
   ]
  },
  {
   "cell_type": "code",
   "execution_count": 12,
   "metadata": {},
   "outputs": [],
   "source": [
    "def read_dict(file):\n",
    "    print(file)\n",
    "    with open(file, 'r') as file:\n",
    "        data = json.load(file)\n",
    "    return data \n",
    "\n",
    "def get_extracted_path(path):\n",
    "    path = path.replace('raw','extracted')\n",
    "    path = path.replace('.pdf','.txt')\n",
    "    return path\n",
    "\n",
    "def get_relative_location_path(extracted_path):\n",
    "    path = extracted_path[:-4] + '_relative_location.csv'\n",
    "    return path\n",
    "\n",
    "def get_root_path():\n",
    "    current_path = os.path.abspath(os.path.dirname(__file__))\n",
    "    parent_path = os.path.abspath(os.path.join(current_path, os.pardir))\n",
    "    #print(\"Parent path:\", parent_path)\n",
    "    return parent_path"
   ]
  },
  {
   "cell_type": "code",
   "execution_count": 14,
   "metadata": {},
   "outputs": [
    {
     "name": "stdout",
     "output_type": "stream",
     "text": [
      "/Users/yiminglin/Documents/Codebase/Pdf_reverse/data/extracted/complaints & use of force/UIUC PD Use of Force/22-274.releasable_relative_location.csv\n",
      "Case Number: [6]\n",
      "Date: [8]\n"
     ]
    }
   ],
   "source": [
    "#check relative locations \n",
    "\n",
    "root_path = '/Users/yiminglin/Documents/Codebase/Pdf_reverse'\n",
    "tested_paths = []\n",
    "tested_paths.append(root_path + '/data/raw/complaints & use of force/Champaign IL Police Complaints/Investigations_Redacted.pdf')\n",
    "tested_paths.append(root_path + '/data/raw/complaints & use of force/UIUC PD Use of Force/22-274.releasable.pdf')\n",
    "tested_paths.append(root_path + '/data/raw/certification/CT/DecertifiedOfficersRev_9622 Emilie Munson.pdf')\n",
    "tested_paths.append(root_path + '/data/raw/certification/IA/Active_Employment.pdf')\n",
    "tested_paths.append(root_path + '/data/raw/certification/MT/RptEmpRstrDetail Active.pdf')\n",
    "tested_paths.append(root_path + '/data/raw/certification/VT/Invisible Institue Report.pdf')\n",
    "\n",
    "tested_id = 1 #starting from 0\n",
    "\n",
    "path = tested_paths[tested_id]\n",
    "extracted_path = get_extracted_path(path)\n",
    "out_path = get_relative_location_path(extracted_path)\n",
    "phrases = read_dict(out_path)\n",
    "\n",
    "words = ['Case Number:','Date:']\n",
    "\n",
    "for word in words:\n",
    "    print(word,phrases[word])\n",
    "\n",
    "\n"
   ]
  }
 ],
 "metadata": {
  "kernelspec": {
   "display_name": "base",
   "language": "python",
   "name": "python3"
  },
  "language_info": {
   "codemirror_mode": {
    "name": "ipython",
    "version": 3
   },
   "file_extension": ".py",
   "mimetype": "text/x-python",
   "name": "python",
   "nbconvert_exporter": "python",
   "pygments_lexer": "ipython3",
   "version": "3.9.7"
  }
 },
 "nbformat": 4,
 "nbformat_minor": 2
}
