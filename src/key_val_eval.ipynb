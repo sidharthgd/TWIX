{
 "cells": [
  {
   "cell_type": "code",
   "execution_count": null,
   "metadata": {},
   "outputs": [],
   "source": []
  },
  {
   "cell_type": "markdown",
   "metadata": {},
   "source": [
    "FP:\n",
    "('university of illinois police department', 'page 1 of 27')\n",
    "- header \n",
    "\n",
    "('1', 'harvey jamir t.')\n",
    "- 1 is treated as a key in previous stage \n",
    "  \n",
    "('medical aid', 'no notes')\n",
    "- might be retrieved back by using absolote distance \n",
    "\n",
    "('officer detail reports #a-12', '')\n",
    "- header \n",
    "\n",
    "('subject #', '')\n",
    "- 1 is a FP in previous stage \n",
    "\n",
    "('/', '')\n",
    "- phrase extraction error\n",
    "\n",
    "('force location', '')\n",
    "- not stated is a FP in previous stage \n",
    "\n",
    "('not stated', '')\n",
    "- not stated is a FP in previous stage \n",
    "\n",
    "('arrested for', '')\n",
    "- not stated is a FP in previous stage \n",
    "\n",
    "('not stated', '')\n",
    "- not stated is a FP in previous stage \n",
    "\n",
    "('report criteria', 'incidents between')\n",
    "- header \n",
    "('narrative', 'officers from the street crimes task force executed a search warrant and subject fled from scene.')\n",
    "('parking lot.', 'officer snow pointed firearm at the suspect and directed him to get on the ground and suspect complied.')\n",
    "('l.e.a. data technologies', 'administrative database')\n",
    "- header \n",
    "FN:\n",
    "('subject #', '1')\n",
    "- FP in previous stage \n",
    "('force location', 'not stated')\n",
    "- FP in previous stage \n",
    "('arrested for', 'not stated')\n",
    "- FP in previous stage \n",
    "('type injuries', '')\n",
    "('medical aid', '')\n",
    "('narrative', 'officers from the street crimes task force executed a search warrant and subject fled from scene. officers pursued on foot and officer snow located subject in a parking lot. officer snow pointed firearm at the suspect and directed him to get on the ground and suspect complied. suspect was taken into custody without further incident.')"
   ]
  },
  {
   "cell_type": "code",
   "execution_count": 2,
   "metadata": {},
   "outputs": [
    {
     "data": {
      "text/plain": [
       "0"
      ]
     },
     "execution_count": 2,
     "metadata": {},
     "output_type": "execute_result"
    }
   ],
   "source": [
    "import pattern \n",
    "import importlib\n",
    "\n",
    "importlib.reload(pattern)\n",
    "\n",
    "left = 'force location'\n",
    "right = 'not stated'\n",
    "pattern.pair_oracle(left,right)"
   ]
  }
 ],
 "metadata": {
  "kernelspec": {
   "display_name": "base",
   "language": "python",
   "name": "python3"
  },
  "language_info": {
   "codemirror_mode": {
    "name": "ipython",
    "version": 3
   },
   "file_extension": ".py",
   "mimetype": "text/x-python",
   "name": "python",
   "nbconvert_exporter": "python",
   "pygments_lexer": "ipython3",
   "version": "3.9.7"
  }
 },
 "nbformat": 4,
 "nbformat_minor": 2
}
