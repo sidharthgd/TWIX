{
 "cells": [
  {
   "cell_type": "code",
   "execution_count": null,
   "metadata": {},
   "outputs": [],
   "source": []
  },
  {
   "cell_type": "markdown",
   "metadata": {},
   "source": [
    "FP:\n",
    "('university of illinois police department', 'page 1 of 27')\n",
    "('1', 'harvey jamir t.')\n",
    "('medical aid', 'no notes')\n",
    "('officer', 'snow ryan s.')\n",
    "('officer detail reports #a-12', '')\n",
    "('subject #', '')\n",
    "('/', '')\n",
    "('force location', '')\n",
    "('not stated', '')\n",
    "('arrested for', '')\n",
    "('not stated', '')\n",
    "('report criteria', 'incidents between')\n",
    "('narrative', 'officers from the street crimes task force executed a search warrant and subject fled from scene.')\n",
    "('parking lot.', 'officer snow pointed firearm at the suspect and directed him to get on the ground and suspect complied.')\n",
    "('l.e.a. data technologies', 'administrative database')\n",
    "FN:\n",
    "('subject #', '1')\n",
    "('force location', 'not stated')\n",
    "('arrested for', 'not stated')\n",
    "('type injuries', '')\n",
    "('medical aid', '')\n",
    "('officer', '\"snow ryan s.\"')\n",
    "('narrative', 'officers from the street crimes task force executed a search warrant and subject fled from scene. officers pursued on foot and officer snow located subject in a parking lot. officer snow pointed firearm at the suspect and directed him to get on the ground and suspect complied. suspect was taken into custody without further incident.')"
   ]
  }
 ],
 "metadata": {
  "language_info": {
   "name": "python"
  }
 },
 "nbformat": 4,
 "nbformat_minor": 2
}
