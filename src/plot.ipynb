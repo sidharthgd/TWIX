{
 "cells": [
  {
   "cell_type": "code",
   "execution_count": 35,
   "metadata": {},
   "outputs": [
    {
     "data": {
      "image/png": "[encoded data removed]",
      "text/plain": [
       "<Figure size 432x288 with 1 Axes>"
      ]
     },
     "metadata": {
      "needs_background": "light"
     },
     "output_type": "display_data"
    }
   ],
   "source": [
    "import numpy as np\n",
    "import matplotlib.pyplot as plt\n",
    "\n",
    "# Data lists \n",
    "# a list corresponds to precision for one method in 6 docs \n",
    "gpt4omini = [0.48,0.86,1,0.06,1,0.19]\n",
    "gpt4o = [0.37,0.89,1,0.04,0.9,0.3]\n",
    "gpt4 = [0.45,0.88,0.83,0.09,0.11,0.17]\n",
    "clustering = [0.81,0.81,0,0.91,0,0.88]\n",
    "graph_based = [0.87,0.89,1,1,0.91,0.86]\n",
    "\n",
    "# Labels for each group\n",
    "labels = ['Redacted', 'releasable', 'Munson', 'Employment', 'Active', 'Report']\n",
    "\n",
    "# Number of groups\n",
    "num_groups = len(labels)\n",
    "\n",
    "# Create figure and axes\n",
    "fig, ax = plt.subplots()\n",
    "\n",
    "# Index for each label/group on x-axis\n",
    "index = np.arange(num_groups)\n",
    "\n",
    "# Bar width\n",
    "bar_width = 0.17\n",
    "\n",
    "# Opacity\n",
    "#opacity = 0.8\n",
    "\n",
    "# Bar plots\n",
    "bar1 = plt.bar(index, gpt4omini, bar_width, alpha=opacity, color='y', label='gpt4omini')\n",
    "bar2 = plt.bar(index + bar_width, gpt4o, bar_width, alpha=opacity, color='r', label='gpt4o')\n",
    "bar3 = plt.bar(index + 2 * bar_width, gpt4, bar_width, alpha=opacity, color='g', label='gpt4')\n",
    "bar4 = plt.bar(index + 3 * bar_width, clustering, bar_width, alpha=opacity, color='c', label='cluster_based')\n",
    "bar5 = plt.bar(index + 4 * bar_width, graph_based, bar_width, alpha=opacity, color='b', label='graph_based')\n",
    "\n",
    "# Labeling\n",
    "plt.xlabel('Documents')\n",
    "plt.ylabel('Precision')\n",
    "plt.title('Precision of different strategies in 6 documents.')\n",
    "#plt.xticks(index + bar_width, labels)\n",
    "plt.xticks(index + 1.5 * bar_width, labels)\n",
    "\n",
    "# Modify the legend to be horizontal and outside the plot area\n",
    "plt.legend(ncol=3, loc='upper center', bbox_to_anchor=(0.5, 1.35), frameon=False)\n",
    "\n",
    "# Adjust layout, increasing padding\n",
    "plt.tight_layout(pad=2.0)\n",
    "#plt.show()\n",
    "\n",
    "plt.savefig('/Users/yiminglin/Documents/Codebase/Pdf_reverse/plots/key_precision.pdf')\n",
    "\n"
   ]
  },
  {
   "cell_type": "code",
   "execution_count": 32,
   "metadata": {},
   "outputs": [
    {
     "data": {
      "image/png": "[encoded data removed]",
      "text/plain": [
       "<Figure size 432x288 with 1 Axes>"
      ]
     },
     "metadata": {
      "needs_background": "light"
     },
     "output_type": "display_data"
    }
   ],
   "source": [
    "import numpy as np\n",
    "import matplotlib.pyplot as plt\n",
    "\n",
    "# Data lists \n",
    "# a list corresponds to precision for one method in 6 docs \n",
    "gpt4omini = [1,0.98,0.6,1,0.95,1]\n",
    "gpt4o = [1,1,1,1,0.95,0.96]\n",
    "gpt4 = [1,1,1,1,0.95,1]\n",
    "clustering = [0.96,0.25,0,1,0,0.48]\n",
    "graph_based = [1,0.97,1,1,1,1]\n",
    "\n",
    "# Labels for each group\n",
    "labels = ['Redacted', 'releasable', 'Munson', 'Employment', 'Active', 'Report']\n",
    "\n",
    "# Number of groups\n",
    "num_groups = len(labels)\n",
    "\n",
    "# Create figure and axes\n",
    "fig, ax = plt.subplots()\n",
    "\n",
    "# Index for each label/group on x-axis\n",
    "index = np.arange(num_groups)\n",
    "\n",
    "# Bar width\n",
    "bar_width = 0.17\n",
    "\n",
    "# Opacity\n",
    "#opacity = 0.8\n",
    "\n",
    "# Bar plots\n",
    "bar1 = plt.bar(index, gpt4omini, bar_width, alpha=opacity, color='y', label='gpt4omini')\n",
    "bar2 = plt.bar(index + bar_width, gpt4o, bar_width, alpha=opacity, color='r', label='gpt4o')\n",
    "bar3 = plt.bar(index + 2 * bar_width, gpt4, bar_width, alpha=opacity, color='g', label='gpt4')\n",
    "bar4 = plt.bar(index + 3 * bar_width, clustering, bar_width, alpha=opacity, color='c', label='cluster_based')\n",
    "bar5 = plt.bar(index + 4 * bar_width, graph_based, bar_width, alpha=opacity, color='b', label='graph_based')\n",
    "\n",
    "# Labeling\n",
    "plt.xlabel('Documents')\n",
    "plt.ylabel('Recall')\n",
    "plt.title('Recall of different strategies in 6 documents.')\n",
    "#plt.xticks(index + bar_width, labels)\n",
    "plt.xticks(index + 1.5 * bar_width, labels)\n",
    "\n",
    "# Modify the legend to be horizontal and outside the plot area\n",
    "plt.legend(ncol=3, loc='upper center', bbox_to_anchor=(0.5, 1.35), frameon=False)\n",
    "\n",
    "# Adjust layout, increasing padding\n",
    "plt.tight_layout(pad=2.0)\n",
    "#plt.show()\n",
    "\n",
    "plt.savefig('/Users/yiminglin/Documents/Codebase/Pdf_reverse/plots/key_recall.pdf')\n",
    "\n"
   ]
  },
  {
   "cell_type": "code",
   "execution_count": 36,
   "metadata": {},
   "outputs": [
    {
     "data": {
      "text/plain": [
       "(0.5983333333333333,\n",
       " 0.5833333333333333,\n",
       " 0.42166666666666663,\n",
       " 0.5683333333333334,\n",
       " 0.9216666666666667)"
      ]
     },
     "execution_count": 36,
     "metadata": {},
     "output_type": "execute_result"
    }
   ],
   "source": [
    "# Lists provided by the user\n",
    "gpt4omini = [0.48, 0.86, 1, 0.06, 1, 0.19]\n",
    "gpt4o = [0.37, 0.89, 1, 0.04, 0.9, 0.3]\n",
    "gpt4 = [0.45, 0.88, 0.83, 0.09, 0.11, 0.17]\n",
    "clustering = [0.81,0.81,0,0.91,0,0.88]\n",
    "graph_based = [0.87, 0.89, 1, 1, 0.91, 0.86]\n",
    "\n",
    "# Calculating the average for each list\n",
    "average_gpt4omini = sum(gpt4omini) / len(gpt4omini)\n",
    "average_gpt4o = sum(gpt4o) / len(gpt4o)\n",
    "average_gpt4 = sum(gpt4) / len(gpt4)\n",
    "average_clustering = sum(clustering) / len(clustering)\n",
    "average_graph_based = sum(graph_based) / len(graph_based)\n",
    "\n",
    "average_gpt4omini, average_gpt4o, average_gpt4, average_clustering, average_graph_based\n"
   ]
  },
  {
   "cell_type": "code",
   "execution_count": 37,
   "metadata": {},
   "outputs": [
    {
     "data": {
      "text/plain": [
       "(0.9216666666666667, 0.985, 0.9916666666666667, 0.4483333333333333, 0.995)"
      ]
     },
     "execution_count": 37,
     "metadata": {},
     "output_type": "execute_result"
    }
   ],
   "source": [
    "gpt4omini = [1,0.98,0.6,1,0.95,1]\n",
    "gpt4o = [1,1,1,1,0.95,0.96]\n",
    "gpt4 = [1,1,1,1,0.95,1]\n",
    "clustering = [0.96,0.25,0,1,0,0.48]\n",
    "graph_based = [1,0.97,1,1,1,1]\n",
    "\n",
    "# Calculating the average for each list\n",
    "average_gpt4omini = sum(gpt4omini) / len(gpt4omini)\n",
    "average_gpt4o = sum(gpt4o) / len(gpt4o)\n",
    "average_gpt4 = sum(gpt4) / len(gpt4)\n",
    "average_clustering = sum(clustering) / len(clustering)\n",
    "average_graph_based = sum(graph_based) / len(graph_based)\n",
    "\n",
    "average_gpt4omini, average_gpt4o, average_gpt4, average_clustering, average_graph_based"
   ]
  },
  {
   "cell_type": "code",
   "execution_count": 3,
   "metadata": {},
   "outputs": [
    {
     "data": {
      "image/png": "[encoded data removed]",
      "text/plain": [
       "<Figure size 432x288 with 1 Axes>"
      ]
     },
     "metadata": {
      "needs_background": "light"
     },
     "output_type": "display_data"
    }
   ],
   "source": [
    "#plot accuracy for table-style doc \n",
    "\n",
    "import numpy as np\n",
    "import matplotlib.pyplot as plt\n",
    "\n",
    "# Data lists \n",
    "# a list corresponds to precision for one method in 3 docs \n",
    "gpt4omini = [1,0.44,0.58]\n",
    "gpt4o = [1,0.58,0.61]\n",
    "gpt4 = [0.96, 0.53, 0.63]\n",
    "vLLM = [0.95,0.58, 0.66]\n",
    "graph_based = [1,1,1]\n",
    "\n",
    "# Labels for each group\n",
    "labels = ['Munson', 'Employment', 'Active']\n",
    "\n",
    "# Number of groups\n",
    "num_groups = len(labels)\n",
    "\n",
    "# Create figure and axes\n",
    "fig, ax = plt.subplots()\n",
    "\n",
    "# Index for each label/group on x-axis\n",
    "index = np.arange(num_groups)\n",
    "\n",
    "# Bar width\n",
    "bar_width = 0.17\n",
    "\n",
    "# Opacity\n",
    "opacity = 0.8\n",
    "\n",
    "# Bar plots\n",
    "bar1 = plt.bar(index, gpt4omini, bar_width, alpha=opacity, color='y', label='gpt4omini')\n",
    "bar2 = plt.bar(index + bar_width, gpt4o, bar_width, alpha=opacity, color='r', label='gpt4o')\n",
    "bar3 = plt.bar(index + 2 * bar_width, gpt4, bar_width, alpha=opacity, color='g', label='gpt4')\n",
    "bar4 = plt.bar(index + 3 * bar_width, vLLM, bar_width, alpha=opacity, color='c', label='vLLM')\n",
    "bar5 = plt.bar(index + 4 * bar_width, graph_based, bar_width, alpha=opacity, color='b', label='graph_based')\n",
    "\n",
    "# Labeling\n",
    "plt.xlabel('Documents')\n",
    "plt.ylabel('Accuracy')\n",
    "plt.title('Accuracy of different strategies in Table-style documents.')\n",
    "#plt.xticks(index + bar_width, labels)\n",
    "plt.xticks(index + 1.5 * bar_width, labels)\n",
    "\n",
    "# Modify the legend to be horizontal and outside the plot area\n",
    "plt.legend(ncol=3, loc='upper center', bbox_to_anchor=(0.5, 1.35), frameon=False)\n",
    "\n",
    "# Adjust layout, increasing padding\n",
    "plt.tight_layout(pad=2.0)\n",
    "#plt.show()\n",
    "\n",
    "plt.savefig('/Users/yiminglin/Documents/Codebase/Pdf_reverse/plots/table_accuracy.pdf')\n"
   ]
  },
  {
   "cell_type": "code",
   "execution_count": null,
   "metadata": {},
   "outputs": [],
   "source": [
    "#plot accuracy for table-style doc \n",
    "\n",
    "import numpy as np\n",
    "import matplotlib.pyplot as plt\n",
    "\n",
    "# Data lists \n",
    "# a list corresponds to precision for one method in 3 docs \n",
    "gpt4omini = []\n",
    "gpt4o = []\n",
    "gpt4 = []\n",
    "vLLM = [0.91,0.84]\n",
    "graph_based = [0.95,0.97]\n",
    "\n",
    "# Labels for each group\n",
    "labels = ['Munson', 'Employment', 'Active']\n",
    "\n",
    "# Number of groups\n",
    "num_groups = len(labels)\n",
    "\n",
    "# Create figure and axes\n",
    "fig, ax = plt.subplots()\n",
    "\n",
    "# Index for each label/group on x-axis\n",
    "index = np.arange(num_groups)\n",
    "\n",
    "# Bar width\n",
    "bar_width = 0.17\n",
    "\n",
    "# Opacity\n",
    "opacity = 0.8\n",
    "\n",
    "# Bar plots\n",
    "bar1 = plt.bar(index, gpt4omini, bar_width, alpha=opacity, color='y', label='gpt4omini')\n",
    "bar2 = plt.bar(index + bar_width, gpt4o, bar_width, alpha=opacity, color='r', label='gpt4o')\n",
    "bar3 = plt.bar(index + 2 * bar_width, gpt4, bar_width, alpha=opacity, color='g', label='gpt4')\n",
    "bar4 = plt.bar(index + 3 * bar_width, vLLM, bar_width, alpha=opacity, color='c', label='vLLM')\n",
    "bar5 = plt.bar(index + 4 * bar_width, graph_based, bar_width, alpha=opacity, color='b', label='graph_based')\n",
    "\n",
    "# Labeling\n",
    "plt.xlabel('Documents')\n",
    "plt.ylabel('Accuracy')\n",
    "plt.title('Accuracy of different strategies in Table-style documents.')\n",
    "#plt.xticks(index + bar_width, labels)\n",
    "plt.xticks(index + 1.5 * bar_width, labels)\n",
    "\n",
    "# Modify the legend to be horizontal and outside the plot area\n",
    "plt.legend(ncol=3, loc='upper center', bbox_to_anchor=(0.5, 1.35), frameon=False)\n",
    "\n",
    "# Adjust layout, increasing padding\n",
    "plt.tight_layout(pad=2.0)\n",
    "#plt.show()\n",
    "\n",
    "plt.savefig('/Users/yiminglin/Documents/Codebase/Pdf_reverse/plots/table_accuracy.pdf')\n"
   ]
  }
 ],
 "metadata": {
  "kernelspec": {
   "display_name": "base",
   "language": "python",
   "name": "python3"
  },
  "language_info": {
   "codemirror_mode": {
    "name": "ipython",
    "version": 3
   },
   "file_extension": ".py",
   "mimetype": "text/x-python",
   "name": "python",
   "nbconvert_exporter": "python",
   "pygments_lexer": "ipython3",
   "version": "3.9.7"
  }
 },
 "nbformat": 4,
 "nbformat_minor": 2
}
