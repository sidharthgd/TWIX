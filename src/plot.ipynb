{
 "cells": [
  {
   "cell_type": "code",
   "execution_count": 3,
   "metadata": {},
   "outputs": [
    {
     "data": {
      "image/png": "[encoded data removed]",
      "text/plain": [
       "<Figure size 432x288 with 1 Axes>"
      ]
     },
     "metadata": {
      "needs_background": "light"
     },
     "output_type": "display_data"
    }
   ],
   "source": [
    "import numpy as np\n",
    "import matplotlib.pyplot as plt\n",
    "\n",
    "# Data lists \n",
    "# a list corresponds to precision for one method in 6 docs \n",
    "gpt4omini = [10, 15, 7, 10, 9]\n",
    "gpt4o = [6, 12, 9, 14, 8]\n",
    "gpt4 = [2, 11, 7, 5, 6]\n",
    "graph_based = [0.87,0.89,1,1,0.91,0.86]\n",
    "\n",
    "# Labels for each group\n",
    "labels = ['Redacted', 'releasable', 'Munson', 'Employment', 'Active', 'Report']\n",
    "\n",
    "# Number of groups\n",
    "num_groups = len(labels)\n",
    "\n",
    "# Create figure and axes\n",
    "fig, ax = plt.subplots()\n",
    "\n",
    "# Index for each label/group on x-axis\n",
    "index = np.arange(num_groups)\n",
    "\n",
    "# Bar width\n",
    "bar_width = 0.25\n",
    "\n",
    "# Opacity\n",
    "opacity = 0.8\n",
    "\n",
    "# Bar plots\n",
    "bar1 = plt.bar(index, list1, bar_width, alpha=opacity, color='b', label='List 1')\n",
    "bar2 = plt.bar(index + bar_width, list2, bar_width, alpha=opacity, color='r', label='List 2')\n",
    "bar3 = plt.bar(index + 2 * bar_width, list3, bar_width, alpha=opacity, color='g', label='List 3')\n",
    "\n",
    "# Labeling\n",
    "plt.xlabel('Groups')\n",
    "plt.ylabel('Values')\n",
    "plt.title('Values by group and list')\n",
    "plt.xticks(index + bar_width, labels)\n",
    "plt.legend()\n",
    "\n",
    "# Display the plot\n",
    "plt.tight_layout()\n",
    "plt.show()\n"
   ]
  }
 ],
 "metadata": {
  "kernelspec": {
   "display_name": "base",
   "language": "python",
   "name": "python3"
  },
  "language_info": {
   "codemirror_mode": {
    "name": "ipython",
    "version": 3
   },
   "file_extension": ".py",
   "mimetype": "text/x-python",
   "name": "python",
   "nbconvert_exporter": "python",
   "pygments_lexer": "ipython3",
   "version": "3.9.7"
  }
 },
 "nbformat": 4,
 "nbformat_minor": 2
}
