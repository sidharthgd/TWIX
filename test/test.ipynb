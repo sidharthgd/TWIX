{
 "cells": [
  {
   "cell_type": "code",
   "execution_count": 4,
   "metadata": {},
   "outputs": [
    {
     "name": "stdout",
     "output_type": "stream",
     "text": [
      "False\n"
     ]
    }
   ],
   "source": [
    "def is_subsequence(seq1, seq2):\n",
    "    iter_seq2 = iter(seq2)\n",
    "    return all(item in iter_seq2 for item in seq1)\n",
    "\n",
    "seq1 = [1, 10, 22]\n",
    "seq2 = [1, 3, 6, 10, 15, 20, 22]\n",
    "\n",
    "print(is_subsequence(seq2, seq1))  # Output: True\n"
   ]
  },
  {
   "cell_type": "code",
   "execution_count": 7,
   "metadata": {},
   "outputs": [],
   "source": [
    "import math\n",
    "\n",
    "def perfect_match(v1,v2):\n",
    "    if(len(v1)!=len(v2)):\n",
    "        return 0\n",
    "    delta = abs(v1[0] - v2[0])\n",
    "    for i in range(len(v1)):\n",
    "        if(abs(v1[i]-v2[i]) != delta):\n",
    "            return 0\n",
    "    return 1\n",
    "    \n",
    "def is_subsequence(seq1, seq2):#len(seq1) < len(seq2)\n",
    "    iter_seq2 = iter(seq2)\n",
    "    return all(item in iter_seq2 for item in seq1)\n",
    "\n",
    "def partial_perfect_match(v1,v2):#len(v1) < len(v2)\n",
    "    delta = abs(v1[0] - v2[0])\n",
    "    new_v1 = []\n",
    "    if(v1[0] < v2[0]):\n",
    "        for v in v1:\n",
    "            new_v1.append(v + delta)\n",
    "    else:\n",
    "        for v in v1:\n",
    "            new_v1.append(v - delta)\n",
    "    if(is_subsequence(new_v1,v2)):\n",
    "        return 1\n",
    "    return 0"
   ]
  },
  {
   "cell_type": "code",
   "execution_count": 8,
   "metadata": {},
   "outputs": [
    {
     "name": "stdout",
     "output_type": "stream",
     "text": [
      "1\n"
     ]
    }
   ],
   "source": [
    "s1 = [20, 240, 464, 687, 915, 1151, 1393]\n",
    "s2 = [19, 239, 463, 686, 914, 1150, 1392]\n",
    "\n",
    "print(perfect_match(s1,s2))"
   ]
  },
  {
   "cell_type": "code",
   "execution_count": 10,
   "metadata": {},
   "outputs": [
    {
     "name": "stdout",
     "output_type": "stream",
     "text": [
      "1\n"
     ]
    }
   ],
   "source": [
    "s1 = [19, 216, 358, 405, 528, 633]\n",
    "s2 = [18, 24, 215, 221, 357, 363, 404, 410, 527, 533, 632, 638]\n",
    "\n",
    "print(partial_perfect_match(s1,s2))"
   ]
  },
  {
   "cell_type": "code",
   "execution_count": 8,
   "metadata": {},
   "outputs": [
    {
     "name": "stdout",
     "output_type": "stream",
     "text": [
      "Earth Mover's Distance: 1.875\n"
     ]
    }
   ],
   "source": [
    "from scipy.stats import wasserstein_distance\n",
    "\n",
    "def calculate_emd(list1, list2):\n",
    "    # Calculate the Earth Mover's Distance\n",
    "    emd_value = wasserstein_distance(list1, list2)\n",
    "    return emd_value\n",
    "\n",
    "# Example lists\n",
    "list1 = [1, 2, 3, 4, 5]\n",
    "list2 = [1,2, 3, 4, 5,7,8,9]\n",
    "\n",
    "# Calculate EMD\n",
    "similarity_number = calculate_emd(list1, list2)\n",
    "print(\"Earth Mover's Distance:\", similarity_number)\n"
   ]
  },
  {
   "cell_type": "code",
   "execution_count": 9,
   "metadata": {},
   "outputs": [],
   "source": [
    "from pyemd import emd_samples\n",
    "\n",
    "def EMD(PK, FK):\n",
    "    PK = [x for x in PK if x==x]#remove nan value\n",
    "    FK = [x for x in FK if x==x]\n",
    "    PK_len = len(PK)\n",
    "    FK_len = len(FK)\n",
    "    #FK_unique = list(set(FK))\n",
    "    val = PK + FK\n",
    "    try:\n",
    "        val.sort()\n",
    "    except Exception as e:\n",
    "        a = 0\n",
    "    rank = {}\n",
    "    pre_val = val[0]\n",
    "    same_st = 0\n",
    "    same_end = 0\n",
    "    #compute ranks\n",
    "    for i in range(1,len(val)):\n",
    "        v = val[i]\n",
    "        if(v == pre_val):\n",
    "            #update end index for same values \n",
    "            same_end = i\n",
    "        else:\n",
    "            #assign rank for values in [same_st, same_et]\n",
    "            mean_rank = float(same_st+same_end)/2.0\n",
    "            rank[pre_val] = mean_rank\n",
    "            #reset st, et for next value \n",
    "            same_st = i\n",
    "            same_end = i\n",
    "        #handle last iteration\n",
    "        if(i == len(val)-1):\n",
    "            if(v == pre_val):\n",
    "                mean_rank = float(same_st+same_end)/2.0\n",
    "                rank[pre_val] = mean_rank\n",
    "            else:\n",
    "                mean_rank = float(same_st+same_end)/2.0\n",
    "                rank[v] = mean_rank\n",
    "        pre_val = v\n",
    "    #assign ranks and normalization\n",
    "    PK_rank = []\n",
    "    FK_rank = []\n",
    "    scale = PK_len + FK_len\n",
    "    #Pk, FK should be divided by same scale to make sure same order will have same quantile\n",
    "    for pk in PK:\n",
    "        PK_rank.append(rank[pk]/float(scale))\n",
    "    for fk in FK:\n",
    "        FK_rank.append(rank[fk]/float(scale))\n",
    "    #get EMD\n",
    "    return emd_samples(PK_rank, FK_rank, bins = 200, normalized=True)"
   ]
  },
  {
   "cell_type": "code",
   "execution_count": 15,
   "metadata": {},
   "outputs": [
    {
     "data": {
      "text/plain": [
       "0.165277626388875"
      ]
     },
     "execution_count": 15,
     "metadata": {},
     "output_type": "execute_result"
    }
   ],
   "source": [
    "s1 = [1,10,20]\n",
    "s2 = [2,5,35]\n",
    "EMD(s1,s2)"
   ]
  },
  {
   "cell_type": "code",
   "execution_count": 17,
   "metadata": {},
   "outputs": [],
   "source": [
    "def is_subsequence(seq1, seq2, k):#len(seq1) < len(seq2)\n",
    "    i = 0\n",
    "    j = 0 \n",
    "    matched_count = 0\n",
    "    while(True):\n",
    "        if(abs(seq1[i] - seq2[j]) <= k):\n",
    "            matched_count += 1\n",
    "            i += 1\n",
    "            j += 1\n",
    "        else:\n",
    "            j += 1\n",
    "        if(i == len(seq1) or j == len(seq2)):\n",
    "            break\n",
    "    if(matched_count < len(seq1)):\n",
    "        return 0\n",
    "    return 1"
   ]
  },
  {
   "cell_type": "code",
   "execution_count": 22,
   "metadata": {},
   "outputs": [
    {
     "data": {
      "text/plain": [
       "1"
      ]
     },
     "execution_count": 22,
     "metadata": {},
     "output_type": "execute_result"
    }
   ],
   "source": [
    "s1 = [1,10,20]\n",
    "s2 = [1,4,6]\n",
    "is_subsequence(s1,s2,1)"
   ]
  }
 ],
 "metadata": {
  "kernelspec": {
   "display_name": "base",
   "language": "python",
   "name": "python3"
  },
  "language_info": {
   "codemirror_mode": {
    "name": "ipython",
    "version": 3
   },
   "file_extension": ".py",
   "mimetype": "text/x-python",
   "name": "python",
   "nbconvert_exporter": "python",
   "pygments_lexer": "ipython3",
   "version": "3.9.7"
  }
 },
 "nbformat": 4,
 "nbformat_minor": 2
}
