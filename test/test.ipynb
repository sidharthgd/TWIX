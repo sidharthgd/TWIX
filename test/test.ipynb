{
 "cells": [
  {
   "cell_type": "code",
   "execution_count": 4,
   "metadata": {},
   "outputs": [
    {
     "name": "stdout",
     "output_type": "stream",
     "text": [
      "False\n"
     ]
    }
   ],
   "source": [
    "def is_subsequence(seq1, seq2):\n",
    "    iter_seq2 = iter(seq2)\n",
    "    return all(item in iter_seq2 for item in seq1)\n",
    "\n",
    "seq1 = [1, 10, 22]\n",
    "seq2 = [1, 3, 6, 10, 15, 20, 22]\n",
    "\n",
    "print(is_subsequence(seq2, seq1))  # Output: True\n"
   ]
  },
  {
   "cell_type": "code",
   "execution_count": 7,
   "metadata": {},
   "outputs": [],
   "source": [
    "import math\n",
    "\n",
    "def perfect_match(v1,v2):\n",
    "    if(len(v1)!=len(v2)):\n",
    "        return 0\n",
    "    delta = abs(v1[0] - v2[0])\n",
    "    for i in range(len(v1)):\n",
    "        if(abs(v1[i]-v2[i]) != delta):\n",
    "            return 0\n",
    "    return 1\n",
    "    \n",
    "def is_subsequence(seq1, seq2):#len(seq1) < len(seq2)\n",
    "    iter_seq2 = iter(seq2)\n",
    "    return all(item in iter_seq2 for item in seq1)\n",
    "\n",
    "def partial_perfect_match(v1,v2):#len(v1) < len(v2)\n",
    "    delta = abs(v1[0] - v2[0])\n",
    "    new_v1 = []\n",
    "    if(v1[0] < v2[0]):\n",
    "        for v in v1:\n",
    "            new_v1.append(v + delta)\n",
    "    else:\n",
    "        for v in v1:\n",
    "            new_v1.append(v - delta)\n",
    "    if(is_subsequence(new_v1,v2)):\n",
    "        return 1\n",
    "    return 0"
   ]
  },
  {
   "cell_type": "code",
   "execution_count": 8,
   "metadata": {},
   "outputs": [
    {
     "name": "stdout",
     "output_type": "stream",
     "text": [
      "1\n"
     ]
    }
   ],
   "source": [
    "s1 = [20, 240, 464, 687, 915, 1151, 1393]\n",
    "s2 = [19, 239, 463, 686, 914, 1150, 1392]\n",
    "\n",
    "print(perfect_match(s1,s2))"
   ]
  },
  {
   "cell_type": "code",
   "execution_count": 10,
   "metadata": {},
   "outputs": [
    {
     "name": "stdout",
     "output_type": "stream",
     "text": [
      "1\n"
     ]
    }
   ],
   "source": [
    "s1 = [19, 216, 358, 405, 528, 633]\n",
    "s2 = [18, 24, 215, 221, 357, 363, 404, 410, 527, 533, 632, 638]\n",
    "\n",
    "print(partial_perfect_match(s1,s2))"
   ]
  }
 ],
 "metadata": {
  "kernelspec": {
   "display_name": "base",
   "language": "python",
   "name": "python3"
  },
  "language_info": {
   "codemirror_mode": {
    "name": "ipython",
    "version": 3
   },
   "file_extension": ".py",
   "mimetype": "text/x-python",
   "name": "python",
   "nbconvert_exporter": "python",
   "pygments_lexer": "ipython3",
   "version": "3.9.7"
  }
 },
 "nbformat": 4,
 "nbformat_minor": 2
}
