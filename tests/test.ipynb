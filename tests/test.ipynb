{
 "cells": [
  {
   "cell_type": "code",
   "execution_count": 1,
   "metadata": {},
   "outputs": [
    {
     "name": "stdout",
     "output_type": "stream",
     "text": [
      "'3.14' is a valid number.\n",
      "'42' is a valid number.\n",
      "'-7.0' is a valid number.\n",
      "'abc' is NOT a valid number.\n",
      "'4.2.2' is NOT a valid number.\n"
     ]
    }
   ],
   "source": [
    "def is_number(s):\n",
    "    try:\n",
    "        float(s)\n",
    "        return True\n",
    "    except ValueError:\n",
    "        return False\n",
    "\n",
    "# Example usage:\n",
    "test_strings = [\"3.14\", \"42\", \"-7.0\", \"abc\", \"4.2.2\"]\n",
    "for s in test_strings:\n",
    "    if is_number(s):\n",
    "        print(f\"'{s}' is a valid number.\")\n",
    "    else:\n",
    "        print(f\"'{s}' is NOT a valid number.\")\n"
   ]
  }
 ],
 "metadata": {
  "kernelspec": {
   "display_name": "base",
   "language": "python",
   "name": "python3"
  },
  "language_info": {
   "codemirror_mode": {
    "name": "ipython",
    "version": 3
   },
   "file_extension": ".py",
   "mimetype": "text/x-python",
   "name": "python",
   "nbconvert_exporter": "python",
   "pygments_lexer": "ipython3",
   "version": "3.9.7"
  }
 },
 "nbformat": 4,
 "nbformat_minor": 2
}
