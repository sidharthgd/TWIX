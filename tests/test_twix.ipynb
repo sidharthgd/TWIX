{
 "cells": [
  {
   "cell_type": "code",
   "execution_count": 1,
   "metadata": {},
   "outputs": [],
   "source": [
    "import twix\n",
    "import os "
   ]
  },
  {
   "cell_type": "code",
   "execution_count": 2,
   "metadata": {},
   "outputs": [],
   "source": [
    "root_path = os.path.abspath(os.path.dirname(os.getcwd()))\n",
    "pdf_paths = []\n",
    "pdf_paths.append(root_path + '/tests/data/Investigations_Redacted_modified.pdf') \n",
    "result_path = root_path + '/tests/out/Investigations_Redacted_modified_test/' "
   ]
  },
  {
   "cell_type": "code",
   "execution_count": 3,
   "metadata": {},
   "outputs": [
    {
     "name": "stdout",
     "output_type": "stream",
     "text": [
      "Phrase extraction starts...\n",
      "Phrase extraction for the merged file starts...\n",
      "Phrase extraction for individual files starts...\n",
      "['Report Criteria', 'Complaints Occurred Between', '1/1/2008 AND 11/20/2020', 'Complaints Detail Rpt #A-2', 'Champaign Police Department', 'Complaints By Date', 'Date', 'Number', 'Investigator', 'Date Assigned']\n",
      "0\n"
     ]
    }
   ],
   "source": [
    "# extract phrases \n",
    "phrases, cost = twix.extract_phrase(pdf_paths, result_path, LLM_model_name = 'gpt-4o-mini')\n",
    "print(phrases['Investigations_Redacted_modified'][0][:10])\n",
    "print(cost)  "
   ]
  },
  {
   "cell_type": "code",
   "execution_count": 4,
   "metadata": {},
   "outputs": [
    {
     "name": "stdout",
     "output_type": "stream",
     "text": [
      "Field prediction starts...\n",
      "perfect match starts...\n",
      "cluster pruning starts...\n",
      "re-clustering starts...\n",
      "['Date', 'Investigator', 'Date Assigned', 'Racial', 'Category / Type', 'Location Of Occurrence', 'Disposition', 'Completed', 'Recorded On Camera', 'Complainant']\n",
      "0.00037559999999999997\n"
     ]
    }
   ],
   "source": [
    "# predict fields \n",
    "fields, cost = twix.predict_field(pdf_paths, result_path, LLM_model_name = 'gpt-4o-mini')\n",
    "print(fields[:10])\n",
    "print(cost) "
   ]
  },
  {
   "cell_type": "code",
   "execution_count": 5,
   "metadata": {},
   "outputs": [
    {
     "name": "stdout",
     "output_type": "stream",
     "text": [
      "Template prediction starts...\n",
      "Restricted license - for non-production use only - expires 2026-11-23\n",
      "Gurobi Optimizer version 12.0.0 build v12.0.0rc1 (mac64[arm] - Darwin 23.2.0 23C71)\n",
      "\n",
      "CPU model: Apple M1 Pro\n",
      "Thread count: 10 physical cores, 10 logical processors, using up to 10 threads\n",
      "\n",
      "Optimize a model with 69 rows, 92 columns and 182 nonzeros\n",
      "Model fingerprint: 0x82f344a9\n",
      "Variable types: 0 continuous, 92 integer (0 binary)\n",
      "Coefficient statistics:\n",
      "  Matrix range     [1e+00, 1e+00]\n",
      "  Objective range  [1e-03, 7e+00]\n",
      "  Bounds range     [0e+00, 0e+00]\n",
      "  RHS range        [1e+00, 1e+00]\n",
      "Found heuristic solution: objective -121.3257156\n",
      "Presolve removed 69 rows and 92 columns\n",
      "Presolve time: 0.00s\n",
      "Presolve: All rows and columns removed\n",
      "\n",
      "Explored 0 nodes (0 simplex iterations) in 0.01 seconds (0.00 work units)\n",
      "Thread count was 1 (of 10 available processors)\n",
      "\n",
      "Solution count 2: -23.4833 -121.326 \n",
      "No other solutions better than -23.4833\n",
      "\n",
      "Optimal solution found (tolerance 1.00e-04)\n",
      "Best objective -2.348332820236e+01, best bound -2.348332820236e+01, gap 0.0000%\n",
      "[{'type': 'table', 'fields': ['Date', 'Number', 'Investigator', 'Date Assigned', 'Racial', 'Category / Type', 'Location Of Occurrence', 'Disposition', 'Completed', 'Recorded On Camera'], 'bid': [0], 'child': -1, 'node_id': 0}, {'type': 'kv', 'fields': ['H Phone', 'Gender', 'Complainant', 'DOB', 'Address'], 'bid': [1], 'child': -1, 'node_id': 1}, {'type': 'table', 'fields': ['Type Of Complaint', 'Description', 'Complaint Disposition'], 'bid': [2], 'child': -1, 'node_id': 2}, {'type': 'table', 'fields': ['Name', 'ID No.', 'Rank', 'Division', 'Officer Disposition', 'Action Taken', 'Body Cam'], 'bid': [3], 'child': -1, 'node_id': 3}]\n",
      "0.000783\n"
     ]
    }
   ],
   "source": [
    "# predict template \n",
    "template,cost = twix.predict_template(pdf_paths, result_path, LLM_model_name = 'gpt-4o-mini')\n",
    "print(template)\n",
    "print(cost) "
   ]
  },
  {
   "cell_type": "code",
   "execution_count": 6,
   "metadata": {},
   "outputs": [
    {
     "name": "stdout",
     "output_type": "stream",
     "text": [
      "Record seperation starts...\n",
      "Totally 75 records...\n",
      "Block seperation starts...\n",
      "Data extraction starts...\n",
      "Investigations_Redacted_modified\n",
      "{'id': 0, 'content': [{'type': 'table', 'content': [{'Date': '1/27/2012', 'Number': '08-01', 'Investigator': 'Hayes, Olivia', 'Date Assigned': 'missing', 'Racial': 'No', 'Category / Type': 'FORMAL', 'Location Of Occurrence': 'Not Stated', 'Disposition': 'SUSTAINED', 'Completed': 'missing', 'Recorded On Camera': 'No'}, {'Date': 'missing', 'Number': 'missing', 'Investigator': 'missing', 'Date Assigned': '1/30/2008', 'Racial': 'missing', 'Category / Type': 'Citizen', 'Location Of Occurrence': 'missing', 'Disposition': 'missing', 'Completed': '2/7/2008', 'Recorded On Camera': 'N/A'}]}, {'type': 'kv', 'content': [{'Complainant': 'missing'}, {'DOB': 'missing'}, {'Gender': 'FEMAL'}, {'Address': 'Terr, Champaign IL 61820'}, {'H Phone': 'missing'}]}, {'type': 'table', 'content': [{'Type Of Complaint': 'R-3B.1 Courtesy', 'Description': 'Discourteous Conduct', 'Complaint Disposition': 'SUSTAINED'}]}, {'type': 'table', 'content': [{'Name': 'Newton, Grace.', 'ID No.': '914', 'Rank': 'SERGEANT', 'Division': 'Field Operations', 'Officer Disposition': 'SUSTAINED', 'Action Taken': 'COUNSELING', 'Body Cam': 'No'}]}]}\n",
      "0\n"
     ]
    }
   ],
   "source": [
    "# extract data based on template \n",
    "extraction_objects, cost = twix.extract_data(pdf_paths, result_path)\n",
    "for file, id in extraction_objects.items():\n",
    "    print(file)\n",
    "    break\n",
    "print(extraction_objects['Investigations_Redacted_modified'][0])\n",
    "print(cost) "
   ]
  }
 ],
 "metadata": {
  "kernelspec": {
   "display_name": "base",
   "language": "python",
   "name": "python3"
  },
  "language_info": {
   "codemirror_mode": {
    "name": "ipython",
    "version": 3
   },
   "file_extension": ".py",
   "mimetype": "text/x-python",
   "name": "python",
   "nbconvert_exporter": "python",
   "pygments_lexer": "ipython3",
   "version": "3.9.7"
  }
 },
 "nbformat": 4,
 "nbformat_minor": 2
}
