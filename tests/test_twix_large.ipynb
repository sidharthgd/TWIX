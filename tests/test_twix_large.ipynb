{
 "cells": [
  {
   "cell_type": "code",
   "execution_count": 1,
   "metadata": {},
   "outputs": [],
   "source": [
    "import twix\n",
    "import os "
   ]
  },
  {
   "cell_type": "code",
   "execution_count": 2,
   "metadata": {},
   "outputs": [],
   "source": [
    "root_path = os.path.abspath(os.path.dirname(os.getcwd()))\n",
    "pdf_paths = []\n",
    "pdf_paths.append(root_path + '/tests/data/2137535.pdf') \n",
    "file_name = '2137535'\n",
    "result_path = root_path + '/tests/out/' + file_name + '/' "
   ]
  },
  {
   "cell_type": "code",
   "execution_count": 3,
   "metadata": {},
   "outputs": [
    {
     "name": "stdout",
     "output_type": "stream",
     "text": [
      "Phrase extraction starts...\n",
      "Phrase extraction for the merged file starts...\n",
      "Phrase extraction for individual files starts...\n",
      "['State Government Credit Card Usage Report', 'Printed Date', '5/6/2021', 'Page 1 of 1292', 'ADJUTANT GENERAL', 'Cardholder', 'Vendor Name', 'Purchase Date', 'Amount', 'AMANDA SMATHERS']\n",
      "0\n"
     ]
    }
   ],
   "source": [
    "# extract phrases for `2137535.pdf` with 1292 pages\n",
    "phrases, cost = twix.extract_phrase(pdf_paths, result_path, LLM_model_name = 'gpt-4o-mini')\n",
    "print(phrases[file_name][0][:10])\n",
    "print(cost)  "
   ]
  },
  {
   "cell_type": "code",
   "execution_count": 4,
   "metadata": {},
   "outputs": [
    {
     "name": "stdout",
     "output_type": "stream",
     "text": [
      "Field prediction starts...\n",
      "perfect match starts...\n",
      "cluster pruning starts...\n",
      "re-clustering starts...\n",
      "['State Government Credit Card Usage Report', 'Printed Date', 'ADJUTANT GENERAL', 'Cardholder', 'Vendor Name', 'Purchase Date', 'Amount']\n",
      "9.779999999999999e-05\n"
     ]
    }
   ],
   "source": [
    "# predict fields \n",
    "fields, cost = twix.predict_field(pdf_paths, result_path, LLM_model_name = 'gpt-4o-mini')\n",
    "print(fields[:10])\n",
    "print(cost) "
   ]
  },
  {
   "cell_type": "code",
   "execution_count": 6,
   "metadata": {},
   "outputs": [
    {
     "name": "stdout",
     "output_type": "stream",
     "text": [
      "Template prediction starts...\n",
      "Gurobi Optimizer version 12.0.0 build v12.0.0rc1 (mac64[arm] - Darwin 23.2.0 23C71)\n",
      "\n",
      "CPU model: Apple M1 Pro\n",
      "Thread count: 10 physical cores, 10 logical processors, using up to 10 threads\n",
      "\n",
      "Optimize a model with 189 rows, 252 columns and 992 nonzeros\n",
      "Model fingerprint: 0xc96a1aef\n",
      "Variable types: 0 continuous, 252 integer (0 binary)\n",
      "Coefficient statistics:\n",
      "  Matrix range     [1e+00, 1e+00]\n",
      "  Objective range  [1e-03, 7e+00]\n",
      "  Bounds range     [0e+00, 0e+00]\n",
      "  RHS range        [1e+00, 1e+00]\n",
      "Found heuristic solution: objective -435.1885826\n",
      "Presolve removed 189 rows and 252 columns\n",
      "Presolve time: 0.00s\n",
      "Presolve: All rows and columns removed\n",
      "\n",
      "Explored 0 nodes (0 simplex iterations) in 0.00 seconds (0.00 work units)\n",
      "Thread count was 1 (of 10 available processors)\n",
      "\n",
      "Solution count 2: -7.57964 -435.189 \n",
      "No other solutions better than -7.57964\n",
      "\n",
      "Optimal solution found (tolerance 1.00e-04)\n",
      "Best objective -7.579641471171e+00, best bound -7.579641471171e+00, gap 0.0000%\n",
      "[{'type': 'table', 'fields': ['Cardholder', 'Vendor Name', 'Purchase Date', 'Amount'], 'bid': [0], 'child': -1, 'node_id': 0}]\n",
      "0.00186\n"
     ]
    }
   ],
   "source": [
    "# predict template \n",
    "template,cost = twix.predict_template(pdf_paths, result_path, LLM_model_name = 'gpt-4o-mini')\n",
    "print(template)\n",
    "print(cost) "
   ]
  },
  {
   "cell_type": "code",
   "execution_count": null,
   "metadata": {},
   "outputs": [
    {
     "name": "stdout",
     "output_type": "stream",
     "text": [
      "Record seperation starts...\n"
     ]
    },
    {
     "ename": "KeyboardInterrupt",
     "evalue": "",
     "output_type": "error",
     "traceback": [
      "\u001b[0;31m---------------------------------------------------------------------------\u001b[0m",
      "\u001b[0;31mKeyboardInterrupt\u001b[0m                         Traceback (most recent call last)",
      "Input \u001b[0;32mIn [8]\u001b[0m, in \u001b[0;36m<module>\u001b[0;34m\u001b[0m\n\u001b[1;32m      1\u001b[0m \u001b[38;5;66;03m# extract data based on template \u001b[39;00m\n\u001b[0;32m----> 2\u001b[0m extraction_objects, cost \u001b[38;5;241m=\u001b[39m \u001b[43mtwix\u001b[49m\u001b[38;5;241;43m.\u001b[39;49m\u001b[43mextract_data\u001b[49m\u001b[43m(\u001b[49m\u001b[43mpdf_paths\u001b[49m\u001b[43m,\u001b[49m\u001b[43m \u001b[49m\u001b[43mresult_path\u001b[49m\u001b[43m)\u001b[49m\n\u001b[1;32m      3\u001b[0m \u001b[38;5;28;01mfor\u001b[39;00m file, \u001b[38;5;28mid\u001b[39m \u001b[38;5;129;01min\u001b[39;00m extraction_objects\u001b[38;5;241m.\u001b[39mitems():\n\u001b[1;32m      4\u001b[0m     \u001b[38;5;28mprint\u001b[39m(file)\n",
      "File \u001b[0;32m~/Documents/Codebase/Pdf_reverse/twix/pattern.py:1510\u001b[0m, in \u001b[0;36mextract_data\u001b[0;34m(data_files, result_folder, template)\u001b[0m\n\u001b[1;32m   1508\u001b[0m     phrases \u001b[38;5;241m=\u001b[39m read_file(text_path)\u001b[38;5;66;03m#list of phrases\u001b[39;00m\n\u001b[1;32m   1509\u001b[0m     phrases_bb \u001b[38;5;241m=\u001b[39m read_json(dict_path)\u001b[38;5;66;03m#phrases with bounding boxes\u001b[39;00m\n\u001b[0;32m-> 1510\u001b[0m     extraction_object \u001b[38;5;241m=\u001b[39m \u001b[43mextract_data_per_doc\u001b[49m\u001b[43m(\u001b[49m\u001b[43mtemplate\u001b[49m\u001b[43m,\u001b[49m\u001b[43m \u001b[49m\u001b[43mphrases_bb\u001b[49m\u001b[43m,\u001b[49m\u001b[43m \u001b[49m\u001b[43mphrases\u001b[49m\u001b[43m,\u001b[49m\u001b[43m \u001b[49m\u001b[43mout_path\u001b[49m\u001b[43m,\u001b[49m\u001b[43m \u001b[49m\u001b[43mmetadata\u001b[49m\u001b[43m)\u001b[49m\n\u001b[1;32m   1511\u001b[0m     extraction_objects[file_name] \u001b[38;5;241m=\u001b[39m extraction_object\n\u001b[1;32m   1513\u001b[0m \u001b[38;5;28;01mreturn\u001b[39;00m extraction_objects, total_cost\n",
      "File \u001b[0;32m~/Documents/Codebase/Pdf_reverse/twix/pattern.py:395\u001b[0m, in \u001b[0;36mextract_data_per_doc\u001b[0;34m(template, phrases_bb, raw_phrases, out_path, metadata)\u001b[0m\n\u001b[1;32m    389\u001b[0m \u001b[38;5;28;01mdef\u001b[39;00m \u001b[38;5;21mextract_data_per_doc\u001b[39m(template, phrases_bb, raw_phrases, out_path, metadata):\n\u001b[1;32m    390\u001b[0m     \n\u001b[1;32m    391\u001b[0m     \u001b[38;5;66;03m# print('Metadata rows...')\u001b[39;00m\n\u001b[1;32m    392\u001b[0m     \u001b[38;5;66;03m# print(metadata_rows)\u001b[39;00m\n\u001b[1;32m    393\u001b[0m     \u001b[38;5;66;03m#seperate records based on template \u001b[39;00m\n\u001b[1;32m    394\u001b[0m     \u001b[38;5;28mprint\u001b[39m(\u001b[38;5;124m\"\u001b[39m\u001b[38;5;124mRecord seperation starts...\u001b[39m\u001b[38;5;124m\"\u001b[39m)\n\u001b[0;32m--> 395\u001b[0m     complete_row_mp \u001b[38;5;241m=\u001b[39m \u001b[43mcreate_row_representations\u001b[49m\u001b[43m(\u001b[49m\u001b[43mraw_phrases\u001b[49m\u001b[43m,\u001b[49m\u001b[43m \u001b[49m\u001b[43mphrases_bb\u001b[49m\u001b[43m)\u001b[49m\n\u001b[1;32m    396\u001b[0m     \u001b[38;5;66;03m#print(len(complete_row_mp))\u001b[39;00m\n\u001b[1;32m    397\u001b[0m     records \u001b[38;5;241m=\u001b[39m record_seperation(template, complete_row_mp)\n",
      "File \u001b[0;32m~/Documents/Codebase/Pdf_reverse/twix/pattern.py:271\u001b[0m, in \u001b[0;36mcreate_row_representations\u001b[0;34m(phrases, phrases_bb)\u001b[0m\n\u001b[1;32m    269\u001b[0m     record_appearance[p] \u001b[38;5;241m=\u001b[39m \u001b[38;5;241m0\u001b[39m\n\u001b[1;32m    270\u001b[0m \u001b[38;5;66;03m#print(phrases_bb)\u001b[39;00m\n\u001b[0;32m--> 271\u001b[0m phrase_boundingbox \u001b[38;5;241m=\u001b[39m \u001b[43mget_bblist_per_record\u001b[49m\u001b[43m(\u001b[49m\u001b[43mrecord_appearance\u001b[49m\u001b[43m,\u001b[49m\u001b[43m \u001b[49m\u001b[43mphrases_bb\u001b[49m\u001b[43m,\u001b[49m\u001b[43m \u001b[49m\u001b[43mphrases\u001b[49m\u001b[43m)\u001b[49m\n\u001b[1;32m    273\u001b[0m \u001b[38;5;66;03m#print(phrase_boundingbox)\u001b[39;00m\n\u001b[1;32m    274\u001b[0m \u001b[38;5;66;03m#create row representations \u001b[39;00m\n\u001b[1;32m    275\u001b[0m \u001b[38;5;66;03m#row_mp: row_id -> a list of (phrase, bb) in the current row\u001b[39;00m\n\u001b[1;32m    276\u001b[0m row_mp \u001b[38;5;241m=\u001b[39m seperate_rows(phrase_boundingbox)\n",
      "File \u001b[0;32m~/Documents/Codebase/Pdf_reverse/twix/pattern.py:146\u001b[0m, in \u001b[0;36mget_bblist_per_record\u001b[0;34m(record_appearance, phrases_bb, phrases)\u001b[0m\n\u001b[1;32m    144\u001b[0m record \u001b[38;5;241m=\u001b[39m {}\n\u001b[1;32m    145\u001b[0m \u001b[38;5;28;01mfor\u001b[39;00m p \u001b[38;5;129;01min\u001b[39;00m phrases:\n\u001b[0;32m--> 146\u001b[0m     c \u001b[38;5;241m=\u001b[39m \u001b[43mphrases\u001b[49m\u001b[38;5;241;43m.\u001b[39;49m\u001b[43mcount\u001b[49m\u001b[43m(\u001b[49m\u001b[43mp\u001b[49m\u001b[43m)\u001b[49m\n\u001b[1;32m    147\u001b[0m     cur \u001b[38;5;241m=\u001b[39m record_appearance[p]\n\u001b[1;32m    148\u001b[0m     \u001b[38;5;28;01mif\u001b[39;00m(p \u001b[38;5;129;01min\u001b[39;00m phrases_bb):\n",
      "\u001b[0;31mKeyboardInterrupt\u001b[0m: "
     ]
    }
   ],
   "source": [
    "# extract data based on template \n",
    "extraction_objects, cost = twix.extract_data(pdf_paths, result_path)\n",
    "print(extraction_objects[file_name][0])\n",
    "print('cost:',cost) "
   ]
  }
 ],
 "metadata": {
  "kernelspec": {
   "display_name": "base",
   "language": "python",
   "name": "python3"
  },
  "language_info": {
   "codemirror_mode": {
    "name": "ipython",
    "version": 3
   },
   "file_extension": ".py",
   "mimetype": "text/x-python",
   "name": "python",
   "nbconvert_exporter": "python",
   "pygments_lexer": "ipython3",
   "version": "3.9.7"
  }
 },
 "nbformat": 4,
 "nbformat_minor": 2
}
