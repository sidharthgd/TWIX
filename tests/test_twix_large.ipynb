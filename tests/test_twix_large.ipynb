{
 "cells": [
  {
   "cell_type": "code",
   "execution_count": 1,
   "metadata": {},
   "outputs": [],
   "source": [
    "import twix\n",
    "import os "
   ]
  },
  {
   "cell_type": "code",
   "execution_count": 2,
   "metadata": {},
   "outputs": [],
   "source": [
    "root_path = os.path.abspath(os.path.dirname(os.getcwd()))\n",
    "pdf_paths = []\n",
    "pdf_paths.append(root_path + '/tests/data/2137535.pdf') \n",
    "file_name = '2137535'\n",
    "result_path = root_path + '/tests/out/' + file_name + '/' "
   ]
  },
  {
   "cell_type": "code",
   "execution_count": 3,
   "metadata": {},
   "outputs": [
    {
     "name": "stdout",
     "output_type": "stream",
     "text": [
      "Phrase extraction starts...\n",
      "Phrase extraction for the merged file starts...\n",
      "Phrase extraction for individual files starts...\n",
      "['State Government Credit Card Usage Report', 'Printed Date', '5/6/2021', 'Page 1 of 1292', 'ADJUTANT GENERAL', 'Cardholder', 'Vendor Name', 'Purchase Date', 'Amount', 'AMANDA SMATHERS']\n",
      "0\n"
     ]
    }
   ],
   "source": [
    "# extract phrases for `2137535.pdf` with 1292 pages\n",
    "phrases, cost = twix.extract_phrase(pdf_paths, result_path, LLM_model_name = 'gpt-4o-mini')\n",
    "print(phrases[file_name][0][:10])\n",
    "print(cost)  "
   ]
  },
  {
   "cell_type": "code",
   "execution_count": 4,
   "metadata": {},
   "outputs": [
    {
     "name": "stdout",
     "output_type": "stream",
     "text": [
      "Field prediction starts...\n",
      "perfect match starts...\n",
      "cluster pruning starts...\n",
      "re-clustering starts...\n",
      "['State Government Credit Card Usage Report', 'Printed Date', 'ADJUTANT GENERAL', 'Cardholder', 'Vendor Name', 'Purchase Date', 'Amount']\n",
      "9.779999999999999e-05\n"
     ]
    }
   ],
   "source": [
    "# predict fields \n",
    "fields, cost = twix.predict_field(pdf_paths, result_path, LLM_model_name = 'gpt-4o-mini')\n",
    "print(fields[:10])\n",
    "print(cost) "
   ]
  },
  {
   "cell_type": "code",
   "execution_count": 6,
   "metadata": {},
   "outputs": [
    {
     "name": "stdout",
     "output_type": "stream",
     "text": [
      "Template prediction starts...\n",
      "Gurobi Optimizer version 12.0.0 build v12.0.0rc1 (mac64[arm] - Darwin 23.2.0 23C71)\n",
      "\n",
      "CPU model: Apple M1 Pro\n",
      "Thread count: 10 physical cores, 10 logical processors, using up to 10 threads\n",
      "\n",
      "Optimize a model with 189 rows, 252 columns and 992 nonzeros\n",
      "Model fingerprint: 0xc96a1aef\n",
      "Variable types: 0 continuous, 252 integer (0 binary)\n",
      "Coefficient statistics:\n",
      "  Matrix range     [1e+00, 1e+00]\n",
      "  Objective range  [1e-03, 7e+00]\n",
      "  Bounds range     [0e+00, 0e+00]\n",
      "  RHS range        [1e+00, 1e+00]\n",
      "Found heuristic solution: objective -435.1885826\n",
      "Presolve removed 189 rows and 252 columns\n",
      "Presolve time: 0.00s\n",
      "Presolve: All rows and columns removed\n",
      "\n",
      "Explored 0 nodes (0 simplex iterations) in 0.00 seconds (0.00 work units)\n",
      "Thread count was 1 (of 10 available processors)\n",
      "\n",
      "Solution count 2: -7.57964 -435.189 \n",
      "No other solutions better than -7.57964\n",
      "\n",
      "Optimal solution found (tolerance 1.00e-04)\n",
      "Best objective -7.579641471171e+00, best bound -7.579641471171e+00, gap 0.0000%\n",
      "[{'type': 'table', 'fields': ['Cardholder', 'Vendor Name', 'Purchase Date', 'Amount'], 'bid': [0], 'child': -1, 'node_id': 0}]\n",
      "0.00186\n"
     ]
    }
   ],
   "source": [
    "# predict template \n",
    "template,cost = twix.predict_template(pdf_paths, result_path, LLM_model_name = 'gpt-4o-mini')\n",
    "print(template)\n",
    "print(cost) "
   ]
  },
  {
   "cell_type": "code",
   "execution_count": 3,
   "metadata": {},
   "outputs": [
    {
     "name": "stdout",
     "output_type": "stream",
     "text": [
      "Record seperation starts...\n",
      "Totally 1290 records...\n",
      "Block seperation starts...\n",
      "Data extraction starts...\n",
      "{'id': 0, 'content': [{'type': 'table', 'content': [{'Cardholder': 'AMANDA SMATHERS', 'Vendor Name': 'AMZN Mktp US B28GQ18E3', 'Purchase Date': '04/12/2021', 'Amount': 'missing'}, {'Cardholder': 'missing', 'Vendor Name': 'AMZN Mktp US R29AS3QL3', 'Purchase Date': '04/14/2021', 'Amount': '$778.41'}, {'Cardholder': 'missing', 'Vendor Name': 'AMZN Mktp US M015Q36X3', 'Purchase Date': '04/14/2021', 'Amount': 'missing'}, {'Cardholder': 'missing', 'Vendor Name': 'AMZN Mktp US EZ9WF4M33', 'Purchase Date': '04/14/2021', 'Amount': 'missing'}, {'Cardholder': 'missing', 'Vendor Name': 'missing', 'Purchase Date': 'missing', 'Amount': '$825.82'}, {'Cardholder': 'ANDREW JAMES', 'Vendor Name': 'missing', 'Purchase Date': '04/17/2021', 'Amount': '$367.20'}, {'Cardholder': 'missing', 'Vendor Name': 'missing', 'Purchase Date': 'missing', 'Amount': '$367.20'}, {'Cardholder': 'BERNARD BRAILSFORD', 'Vendor Name': \"O'REILLY AUTO PARTS 1666\", 'Purchase Date': '04/06/2021', 'Amount': 'missing'}, {'Cardholder': 'missing', 'Vendor Name': 'MURRAY SUPPLY COMPANY', 'Purchase Date': '04/14/2021', 'Amount': 'missing'}, {'Cardholder': 'missing', 'Vendor Name': 'SMITH & JONES JANITORI', 'Purchase Date': '04/21/2021', 'Amount': '$1,251.07'}, {'Cardholder': 'missing', 'Vendor Name': 'SMITH & JONES JANITORI', 'Purchase Date': '04/21/2021', 'Amount': '$1,213.06'}, {'Cardholder': 'missing', 'Vendor Name': 'missing', 'Purchase Date': 'missing', 'Amount': '$2,569.72'}, {'Cardholder': 'missing', 'Vendor Name': 'missing', 'Purchase Date': '03/30/2021', 'Amount': '$154.62'}, {'Cardholder': 'missing', 'Vendor Name': 'missing', 'Purchase Date': '04/15/2021', 'Amount': '$176.25'}, {'Cardholder': 'missing', 'Vendor Name': 'ALL AMERICAN POLY', 'Purchase Date': '04/27/2021', 'Amount': '$501.00'}, {'Cardholder': 'missing', 'Vendor Name': 'missing', 'Purchase Date': 'missing', 'Amount': '$831.87'}, {'Cardholder': 'missing', 'Vendor Name': 'missing', 'Purchase Date': '04/28/2021', 'Amount': '$559.98'}, {'Cardholder': 'missing', 'Vendor Name': 'missing', 'Purchase Date': 'missing', 'Amount': '$559.98'}, {'Cardholder': 'CARMEN TEFS', 'Vendor Name': 'GOLF CARS OF COLUMBIA', 'Purchase Date': '04/06/2021', 'Amount': '$1,288.96'}, {'Cardholder': 'missing', 'Vendor Name': 'PERSONNEL CONCEPTS', 'Purchase Date': '04/21/2021', 'Amount': '$907.38'}, {'Cardholder': 'missing', 'Vendor Name': 'missing', 'Purchase Date': 'missing', 'Amount': '$2,196.34'}, {'Cardholder': 'CHRISTOPHER STONE', 'Vendor Name': 'TRACTOR SUPPLY #104', 'Purchase Date': '03/31/2021', 'Amount': 'missing'}, {'Cardholder': 'missing', 'Vendor Name': 'DILLON SUPPLY COMPANY', 'Purchase Date': '04/12/2021', 'Amount': '$2,451.47'}, {'Cardholder': 'missing', 'Vendor Name': 'HELMLY BROTHERS ACE HDW', 'Purchase Date': '04/13/2021', 'Amount': '$486.64'}, {'Cardholder': 'missing', 'Vendor Name': 'BLANCHARD EQUIPMENT - ST', 'Purchase Date': '04/14/2021', 'Amount': 'missing'}, {'Cardholder': 'missing', 'Vendor Name': 'missing', 'Purchase Date': '04/13/2021', 'Amount': 'missing'}, {'Cardholder': 'missing', 'Vendor Name': 'missing', 'Purchase Date': 'missing', 'Amount': '$3,114.97'}, {'Cardholder': 'CHRISTY JACOBS', 'Vendor Name': 'AMZN MKTP US N01BG84I3 AM', 'Purchase Date': '04/07/2021', 'Amount': 'missing'}, {'Cardholder': 'missing', 'Vendor Name': 'AMZN Mktp US 996Q43TB3', 'Purchase Date': '04/15/2021', 'Amount': 'missing'}, {'Cardholder': 'missing', 'Vendor Name': 'ADOBE ACROPRO SUBS', 'Purchase Date': '04/15/2021', 'Amount': 'missing'}, {'Cardholder': 'missing', 'Vendor Name': 'DMI DELL K-12/GOVT', 'Purchase Date': '04/22/2021', 'Amount': '$253.50'}, {'Cardholder': 'missing', 'Vendor Name': 'ADOBE ACROPRO SUBS', 'Purchase Date': '04/23/2021', 'Amount': 'missing'}, {'Cardholder': 'missing', 'Vendor Name': 'DMI DELL BUS ONLINE', 'Purchase Date': '04/24/2021', 'Amount': '$151.19'}, {'Cardholder': 'missing', 'Vendor Name': 'missing', 'Purchase Date': '04/23/2021', 'Amount': '$539.94'}, {'Cardholder': 'missing', 'Vendor Name': 'missing', 'Purchase Date': '04/24/2021', 'Amount': '$794.84'}, {'Cardholder': 'missing', 'Vendor Name': 'missing', 'Purchase Date': 'missing', 'Amount': '$2,035.69'}, {'Cardholder': 'DANIEL TATUM', 'Vendor Name': 'ACADEMY SPORTS #136', 'Purchase Date': '04/08/2021', 'Amount': '$929.88'}, {'Cardholder': 'missing', 'Vendor Name': 'missing', 'Purchase Date': 'missing', 'Amount': '$929.88'}, {'Cardholder': 'DARLENE W ERSKINE', 'Vendor Name': 'FORMS AND SUPPLY - AOPD', 'Purchase Date': '04/07/2021', 'Amount': '$1,857.02'}, {'Cardholder': 'missing', 'Vendor Name': 'FORMS AND SUPPLY - AOPD', 'Purchase Date': '04/12/2021', 'Amount': '$738.61'}, {'Cardholder': 'missing', 'Vendor Name': 'FORMS AND SUPPLY - AOPD', 'Purchase Date': '04/12/2021', 'Amount': '$2,383.57'}, {'Cardholder': 'missing', 'Vendor Name': 'FORMS AND SUPPLY - AOPD', 'Purchase Date': '04/13/2021', 'Amount': 'missing'}, {'Cardholder': 'missing', 'Vendor Name': 'FORMS AND SUPPLY - AOPD', 'Purchase Date': '04/27/2021', 'Amount': '$650.24'}]}]}\n",
      "cost: 0\n"
     ]
    }
   ],
   "source": [
    "# extract data based on template \n",
    "extraction_objects, cost = twix.extract_data(pdf_paths, result_path)\n",
    "print(extraction_objects[file_name][0])\n",
    "print('cost:',cost) "
   ]
  }
 ],
 "metadata": {
  "kernelspec": {
   "display_name": "base",
   "language": "python",
   "name": "python3"
  },
  "language_info": {
   "codemirror_mode": {
    "name": "ipython",
    "version": 3
   },
   "file_extension": ".py",
   "mimetype": "text/x-python",
   "name": "python",
   "nbconvert_exporter": "python",
   "pygments_lexer": "ipython3",
   "version": "3.9.7"
  }
 },
 "nbformat": 4,
 "nbformat_minor": 2
}
