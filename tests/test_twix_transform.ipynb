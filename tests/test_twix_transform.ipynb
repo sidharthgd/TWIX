{
 "cells": [
  {
   "cell_type": "code",
   "execution_count": 1,
   "metadata": {},
   "outputs": [],
   "source": [
    "import twix"
   ]
  },
  {
   "cell_type": "code",
   "execution_count": 2,
   "metadata": {},
   "outputs": [],
   "source": [
    "# add data files \n",
    "import os \n",
    "root_path = os.path.abspath(os.path.dirname(os.getcwd()))\n",
    "pdf_paths = []\n",
    "pdf_paths.append(root_path + '/tests/data/Investigations_Redacted_modified.pdf')\n",
    "result_path = root_path + '/tests/out/Investigations_Redacted_modified_test/' "
   ]
  },
  {
   "cell_type": "code",
   "execution_count": 3,
   "metadata": {},
   "outputs": [
    {
     "name": "stdout",
     "output_type": "stream",
     "text": [
      "Phrase extraction starts...\n",
      "Phrase extraction for the merged file starts...\n",
      "Phrase extraction for individual files starts...\n",
      "Field prediction starts...\n",
      "perfect match starts...\n",
      "cluster pruning starts...\n",
      "re-clustering starts...\n",
      "Template prediction starts...\n",
      "Restricted license - for non-production use only - expires 2026-11-23\n",
      "Gurobi Optimizer version 12.0.0 build v12.0.0rc1 (mac64[arm] - Darwin 23.2.0 23C71)\n",
      "\n",
      "CPU model: Apple M1 Pro\n",
      "Thread count: 10 physical cores, 10 logical processors, using up to 10 threads\n",
      "\n",
      "Optimize a model with 69 rows, 92 columns and 182 nonzeros\n",
      "Model fingerprint: 0x82f344a9\n",
      "Variable types: 0 continuous, 92 integer (0 binary)\n",
      "Coefficient statistics:\n",
      "  Matrix range     [1e+00, 1e+00]\n",
      "  Objective range  [1e-03, 7e+00]\n",
      "  Bounds range     [0e+00, 0e+00]\n",
      "  RHS range        [1e+00, 1e+00]\n",
      "Found heuristic solution: objective -121.3257156\n",
      "Presolve removed 69 rows and 92 columns\n",
      "Presolve time: 0.00s\n",
      "Presolve: All rows and columns removed\n",
      "\n",
      "Explored 0 nodes (0 simplex iterations) in 0.00 seconds (0.00 work units)\n",
      "Thread count was 1 (of 10 available processors)\n",
      "\n",
      "Solution count 2: -23.4833 -121.326 \n",
      "No other solutions better than -23.4833\n",
      "\n",
      "Optimal solution found (tolerance 1.00e-04)\n",
      "Best objective -2.348332820236e+01, best bound -2.348332820236e+01, gap 0.0000%\n",
      "Record seperation starts...\n",
      "Totally 75 records...\n",
      "Block seperation starts...\n",
      "Data extraction starts...\n"
     ]
    }
   ],
   "source": [
    "fields, template, extraction_objects, cost = twix.transform(pdf_paths, result_path, 'gpt-4o-mini')  "
   ]
  },
  {
   "cell_type": "code",
   "execution_count": 4,
   "metadata": {},
   "outputs": [
    {
     "name": "stdout",
     "output_type": "stream",
     "text": [
      "total cost: 0\n"
     ]
    }
   ],
   "source": [
    "print('total cost:', cost)"
   ]
  }
 ],
 "metadata": {
  "kernelspec": {
   "display_name": "base",
   "language": "python",
   "name": "python3"
  },
  "language_info": {
   "codemirror_mode": {
    "name": "ipython",
    "version": 3
   },
   "file_extension": ".py",
   "mimetype": "text/x-python",
   "name": "python",
   "nbconvert_exporter": "python",
   "pygments_lexer": "ipython3",
   "version": "3.9.7"
  }
 },
 "nbformat": 4,
 "nbformat_minor": 2
}
