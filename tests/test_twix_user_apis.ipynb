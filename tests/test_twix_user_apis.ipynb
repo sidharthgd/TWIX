{
 "cells": [
  {
   "cell_type": "code",
   "execution_count": 1,
   "metadata": {},
   "outputs": [],
   "source": [
    "import twix\n",
    "import os "
   ]
  },
  {
   "cell_type": "code",
   "execution_count": 2,
   "metadata": {},
   "outputs": [],
   "source": [
    "root_path = os.path.abspath(os.path.dirname(os.getcwd()))\n",
    "pdf_paths = []\n",
    "file_name = '22-274.releasable'\n",
    "pdf_paths.append(root_path + '/tests/data/22-274.releasable.pdf') \n",
    "result_path = root_path + '/tests/out/' + file_name + '_test/' "
   ]
  },
  {
   "cell_type": "code",
   "execution_count": 3,
   "metadata": {},
   "outputs": [
    {
     "name": "stdout",
     "output_type": "stream",
     "text": [
      "Phrase extraction starts...\n",
      "Phrase extraction for the merged file starts...\n",
      "Phrase extraction for individual files starts...\n",
      "['Report Criteria', 'Incidents Between', '1/1/2023 AND 12/17/2023', 'Officer Detail Reports #A-15', 'University of Illinois Police Department', 'Page 1 of 27', 'Use Of Force Full Details', 'Case Number', '34-02142', 'Date']\n",
      "cost: 0\n"
     ]
    }
   ],
   "source": [
    "# Extract phrases primarily using an OCR tool.\n",
    "# `vision_feature` (boolean, optional): If set to True, TWIX uses a vision-based LLM to extract phrases from the first two pages of the document and learn rules to merge words into phrases. Defaults to False.\n",
    "\n",
    "phrases, cost = twix.extract_phrase(pdf_paths, result_path, LLM_model_name = 'gpt-4o-mini')\n",
    "print(phrases[file_name][0][:10])\n",
    "print('cost:', cost)  "
   ]
  },
  {
   "cell_type": "code",
   "execution_count": 4,
   "metadata": {},
   "outputs": [
    {
     "name": "stdout",
     "output_type": "stream",
     "text": [
      "Field prediction starts...\n",
      "perfect match starts...\n",
      "cluster pruning starts...\n",
      "re-clustering starts...\n",
      "['University of Illinois Police Department', 'Use Of Force Full Details', 'Case Number', 'Date', 'Time', 'Assist', 'Agency', 'Information Taken From', 'Crime/ Incident', 'Status', 'Completed', 'Incident Reviewed By', 'Date Reviewed', 'Drugs/Alcohol', 'Location', 'K-9', 'Crisis Intervention Related', 'Type Premises', 'District', 'Recorded On Camera', 'Type Situation', 'Reason Force Used', 'Officer Injured', 'Danger Factors', 'Final Disposition', 'Verbal De-Escalation Attempted', 'Level Of Resistance', 'Subject Armed With', 'Force Used', 'Force Location', 'Arrested', 'Arrested For', 'Arrest ID', 'Injured', 'Medical Aid', 'Officer', 'Action Taken', 'Action Taken Useful', 'CIT', 'Disciplinary Action', 'Included On Alert']\n",
      "cost: 0.0005448\n"
     ]
    }
   ],
   "source": [
    "# predict fields \n",
    "fields, cost = twix.predict_field(pdf_paths, result_path, LLM_model_name = 'gpt-4o-mini')\n",
    "print(fields)\n",
    "print('cost:', cost)  "
   ]
  },
  {
   "cell_type": "code",
   "execution_count": 5,
   "metadata": {},
   "outputs": [
    {
     "name": "stdout",
     "output_type": "stream",
     "text": [
      "Fields are updated!\n",
      "Fields are updated!\n"
     ]
    },
    {
     "data": {
      "text/plain": [
       "['Case Number',\n",
       " 'Date',\n",
       " 'Time',\n",
       " 'Assist',\n",
       " 'Agency',\n",
       " 'Information Taken From',\n",
       " 'Crime/ Incident',\n",
       " 'Status',\n",
       " 'Completed',\n",
       " 'Incident Reviewed By',\n",
       " 'Date Reviewed',\n",
       " 'Drugs/Alcohol',\n",
       " 'Location',\n",
       " 'K-9',\n",
       " 'Crisis Intervention Related',\n",
       " 'Type Premises',\n",
       " 'District',\n",
       " 'Recorded On Camera',\n",
       " 'Type Situation',\n",
       " 'Reason Force Used',\n",
       " 'Officer Injured',\n",
       " 'Danger Factors',\n",
       " 'Final Disposition',\n",
       " 'Verbal De-Escalation Attempted',\n",
       " 'Level Of Resistance',\n",
       " 'Subject Armed With',\n",
       " 'Force Used',\n",
       " 'Force Location',\n",
       " 'Arrested',\n",
       " 'Arrested For',\n",
       " 'Arrest ID',\n",
       " 'Injured',\n",
       " 'Medical Aid',\n",
       " 'Officer',\n",
       " 'Action Taken',\n",
       " 'Action Taken Useful',\n",
       " 'CIT',\n",
       " 'Disciplinary Action',\n",
       " 'Included On Alert',\n",
       " 'DOB',\n",
       " 'Gender',\n",
       " 'Race',\n",
       " 'Under The Influence']"
      ]
     },
     "execution_count": 5,
     "metadata": {},
     "output_type": "execute_result"
    }
   ],
   "source": [
    "# edit fields \n",
    "\n",
    "# You may delete fields if you believe they are not actual fields.\n",
    "\n",
    "fields_to_remove = ['University of Illinois Police Department', 'Use Of Force Full Details']\n",
    "\n",
    "twix.remove_fields(fields_to_remove, result_path)\n",
    "\n",
    "# You may add fields if you believe they should be included as true fields.\n",
    "\n",
    "fields_to_add = ['DOB', 'Gender', 'Race', 'Under The Influence'] \n",
    "\n",
    "twix.add_fields(fields_to_add, result_path)\n"
   ]
  },
  {
   "cell_type": "code",
   "execution_count": 7,
   "metadata": {},
   "outputs": [
    {
     "name": "stdout",
     "output_type": "stream",
     "text": [
      "Template prediction starts...\n",
      "Gurobi Optimizer version 12.0.0 build v12.0.0rc1 (mac64[arm] - Darwin 23.2.0 23C71)\n",
      "\n",
      "CPU model: Apple M1 Pro\n",
      "Thread count: 10 physical cores, 10 logical processors, using up to 10 threads\n",
      "\n",
      "Optimize a model with 141 rows, 188 columns and 484 nonzeros\n",
      "Model fingerprint: 0xe0fa98d5\n",
      "Variable types: 0 continuous, 188 integer (0 binary)\n",
      "Coefficient statistics:\n",
      "  Matrix range     [1e+00, 1e+00]\n",
      "  Objective range  [1e-03, 7e+00]\n",
      "  Bounds range     [0e+00, 0e+00]\n",
      "  RHS range        [1e+00, 1e+00]\n",
      "Found heuristic solution: objective -147.4982327\n",
      "Presolve removed 139 rows and 183 columns\n",
      "Presolve time: 0.00s\n",
      "Presolved: 2 rows, 5 columns, 7 nonzeros\n",
      "Found heuristic solution: objective -42.4876131\n",
      "Variable types: 0 continuous, 5 integer (5 binary)\n",
      "\n",
      "Explored 0 nodes (0 simplex iterations) in 0.01 seconds (0.00 work units)\n",
      "Thread count was 10 (of 10 available processors)\n",
      "\n",
      "Solution count 2: -42.4876 -147.498 \n",
      "No other solutions better than -42.4876\n",
      "\n",
      "Optimal solution found (tolerance 1.00e-04)\n",
      "Best objective -4.248761313267e+01, best bound -4.248761313267e+01, gap 0.0000%\n",
      "[{'type': 'kv', 'child': -1, 'fields': ['K-9', 'Date Reviewed', 'Final Disposition', 'Recorded On Camera', 'Assist', 'Level Of Resistance', 'District', 'Injured', 'Type Premises', 'Arrested For', 'Gender', 'Race', 'Status', 'Information Taken From', 'Crisis Intervention Related', 'Type Situation', 'Officer Injured', 'Reason Force Used', 'Crime/ Incident', 'WGT', 'Agency', 'Force Location', 'Time', 'Camera', 'Case Number', 'Danger Factors', 'Subject Armed With', 'Location', 'HGT', 'Verbal De-Escalation Attempted', 'City', 'Type Injuries', 'Force Used', 'Incident Reviewed By', 'Under The Influence', 'Arrested', 'Arrest ID', 'Subject #', 'Drugs/Alcohol', 'DOB', 'Date'], 'bid': [0], 'node_id': 0}, {'type': 'table', 'fields': ['No Notes'], 'bid': [1], 'child': 2, 'node_id': 1}, {'type': 'kv', 'fields': ['K-9', 'CIT', 'Date Reviewed', 'Final Disposition', 'Recorded On Camera', 'Assist', 'Action Taken Useful', 'Disciplinary Action', 'District', 'Level Of Resistance', 'Action Taken', 'Type Premises', 'Injured', 'Arrested For', 'Status', 'Information Taken From', 'Crisis Intervention Related', 'Firearm - Pointed At Subject', 'Type Situation', 'Armed Subject', 'Officer Safety', 'Officer Injured', 'Reason Force Used', 'Crime/ Incident', 'Force Location', 'Agency', 'Time', 'Camera', 'Case Number', 'Danger Factors', 'Officer', 'Subject Armed With', 'Included On Alert', 'Vehicle/BWC', 'Location', 'Verbal De-Escalation Attempted', 'City', 'Type Injuries', 'Force Used', 'Incident Reviewed By', 'Arrested', 'Arrest ID', 'Active Aggressive', 'Drugs/Alcohol', 'Date', 'Medical Aid'], 'bid': [2, 3, 5], 'child': -1, 'node_id': 2}]\n",
      "cost: 0.0028271999999999993\n"
     ]
    }
   ],
   "source": [
    "# predict template \n",
    "template,cost = twix.predict_template(pdf_paths, result_path, LLM_model_name = 'gpt-4o-mini')\n",
    "print(template)\n",
    "print('cost:', cost)  "
   ]
  },
  {
   "cell_type": "code",
   "execution_count": 8,
   "metadata": {},
   "outputs": [
    {
     "name": "stdout",
     "output_type": "stream",
     "text": [
      "Template is updated!\n"
     ]
    },
    {
     "data": {
      "text/plain": [
       "[{'type': 'kv',\n",
       "  'child': -1,\n",
       "  'fields': ['K-9',\n",
       "   'Date Reviewed',\n",
       "   'Final Disposition',\n",
       "   'Recorded On Camera',\n",
       "   'Assist',\n",
       "   'Level Of Resistance',\n",
       "   'District',\n",
       "   'Injured',\n",
       "   'Type Premises',\n",
       "   'Arrested For',\n",
       "   'Gender',\n",
       "   'Race',\n",
       "   'Status',\n",
       "   'Information Taken From',\n",
       "   'Crisis Intervention Related',\n",
       "   'Type Situation',\n",
       "   'Officer Injured',\n",
       "   'Reason Force Used',\n",
       "   'Crime/ Incident',\n",
       "   'WGT',\n",
       "   'Agency',\n",
       "   'Force Location',\n",
       "   'Time',\n",
       "   'Camera',\n",
       "   'Case Number',\n",
       "   'Danger Factors',\n",
       "   'Subject Armed With',\n",
       "   'Location',\n",
       "   'HGT',\n",
       "   'Verbal De-Escalation Attempted',\n",
       "   'City',\n",
       "   'Type Injuries',\n",
       "   'Force Used',\n",
       "   'Incident Reviewed By',\n",
       "   'Under The Influence',\n",
       "   'Arrested',\n",
       "   'Arrest ID',\n",
       "   'Subject #',\n",
       "   'Drugs/Alcohol',\n",
       "   'DOB',\n",
       "   'Date'],\n",
       "  'bid': [0],\n",
       "  'node_id': 0}]"
      ]
     },
     "execution_count": 8,
     "metadata": {},
     "output_type": "execute_result"
    }
   ],
   "source": [
    "# You can edit the inferred template by deleting/add nodes, updating fields in a current node \n",
    "\n",
    "nodes_to_remove = [1,2]\n",
    "twix.remove_template_node(nodes_to_remove, result_path)"
   ]
  },
  {
   "cell_type": "code",
   "execution_count": 9,
   "metadata": {},
   "outputs": [
    {
     "name": "stdout",
     "output_type": "stream",
     "text": [
      "Record seperation starts...\n",
      "Totally 10 records...\n",
      "Block seperation starts...\n",
      "Data extraction starts...\n",
      "{'id': 0, 'content': [{'type': 'kv', 'content': [{'Case Number': '34-02142'}, {'Date': '1/15/2023'}, {'Time': '0912'}, {'Assist': 'Yes'}, {'Agency': 'SCTF'}, {'Information Taken From': 'missing'}, {'Crime/ Incident': 'missing'}, {'Status': 'Completed'}, {'Incident Reviewed By': 'Benson, Mark T.'}, {'Date Reviewed': '1/15/2023'}, {'Drugs/Alcohol': 'No'}, {'Location': '482 Maplewood Dr.'}, {'City': 'Champaign'}, {'K-9': 'No'}, {'Crisis Intervention Related': 'No'}, {'Type Premises': 'Apartment'}, {'District': 'missing'}, {'Recorded On Camera': 'Yes'}, {'Camera': 'Body Camera'}, {'Type Situation': 'Search Warrant'}, {'Reason Force Used': 'Fled Scene'}, {'Officer Injured': 'No'}, {'Danger Factors': 'Not Listed'}, {'Final Disposition': 'Not Listed'}, {'Verbal De-Escalation Attempted': 'No'}, {'Subject #': '1'}, {'DOB': 'missing'}, {'Gender': 'Male'}, {'Race': 'missing'}, {'HGT': '/'}, {'WGT': 'missing'}, {'Under The Influence': 'No'}, {'City': 'Champaign'}, {'Level Of Resistance': 'Fleeing Suspect'}, {'Subject Armed With': 'N/A'}, {'Force Used': 'Fleeing'}, {'Force Location': 'Not Stated'}, {'Arrested': 'Yes'}, {'Arrested For': 'Not Stated'}, {'Arrest ID': 'None'}, {'Injured': 'No'}, {'Type Injuries': 'Medical Aid'}, {'Camera': 'Yes'}, {'Type Injuries': 'None'}]}]}\n",
      "cost: 0\n"
     ]
    }
   ],
   "source": [
    "# extract data based on template \n",
    "extraction_objects, cost = twix.extract_data(pdf_paths, result_path)\n",
    "print(extraction_objects[file_name][0])\n",
    "print('cost:', cost)  "
   ]
  }
 ],
 "metadata": {
  "kernelspec": {
   "display_name": "base",
   "language": "python",
   "name": "python3"
  },
  "language_info": {
   "codemirror_mode": {
    "name": "ipython",
    "version": 3
   },
   "file_extension": ".py",
   "mimetype": "text/x-python",
   "name": "python",
   "nbconvert_exporter": "python",
   "pygments_lexer": "ipython3",
   "version": "3.9.7"
  }
 },
 "nbformat": 4,
 "nbformat_minor": 2
}
